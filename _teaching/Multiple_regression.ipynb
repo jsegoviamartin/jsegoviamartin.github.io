{
 "cells": [
  {
   "cell_type": "markdown",
   "metadata": {},
   "source": [
    "## Lab 3: Multiple regression"
   ]
  },
  {
   "cell_type": "markdown",
   "metadata": {},
   "source": [
    "#### PS 1\n",
    "\n",
    "In this lab you will build a linear model that takes into account both the advertising and the airplay, to predict album sales. \n",
    "First we need to fit a model using a bunch of known values of sales, advertising and airplay and then we need to derive the values of b0, b1 and b2 (the intercept and the slopes).\n",
    "We then need to know the budget spent on advertising for the album of interest, and how many times it was played on the radio. \n",
    "If we have these five values (b0, b1, b2, advertising and airplay for the album) we can emit a prediction regarding how much the album will sell.\n"
   ]
  },
  {
   "cell_type": "code",
   "execution_count": 3,
   "metadata": {
    "collapsed": false
   },
   "outputs": [
    {
     "name": "stdout",
     "output_type": "stream",
     "text": [
      "     adverts     sales  airplay attract\n",
      "1     10.256       330       43      10\n",
      "2    985.685       120       28       7\n",
      "3   1445.563       360       35       7\n",
      "4   1188.193       270       33       7\n",
      "5    574.513       220       44       5\n",
      "6    568.954       170       19       5\n",
      "7    471.814        70       20       1\n",
      "8    537.352       210       22       9\n",
      "9    500.000       200       NA      NA\n",
      "10   514.068       200       21       7\n",
      "11   174.093       300       40       7\n",
      "12  1720.806       290       32       7\n",
      "13   611.479        70       20       2\n",
      "14   251.192       150       24       8\n",
      "15    97.972       190       38       6\n",
      "16   406.814       240       24       7\n",
      "17   265.398       100       25       5\n",
      "18  1323.287       250       35       5\n",
      "19   950.982       240 99999999       4\n",
      "20   196.650       210       36       8\n",
      "21  1326.598       280       27       8\n",
      "22  1380.689       230       33       8\n",
      "23   792.345       210       33       7\n",
      "24   957.167       230       28       6\n",
      "25  1789.659       320       30       9\n",
      "26   656.137       210       34       7\n",
      "27   613.697       230       49       7\n",
      "28   313.362       250       40       8\n",
      "29   313.000 249albums       39       7\n",
      "30   336.510        60       20       4\n",
      "31  1544.899       330       42       7\n",
      "32    68.954       150       35       8\n",
      "33   785.692       150        8       6\n",
      "34   125.628       180       49       7\n",
      "35   377.925        80       19       8\n",
      "36   217.994       180       42       6\n",
      "37   759.862       130        6       7\n",
      "38  1163.444       320       36       6\n",
      "39   842.957       280       32       7\n",
      "40   125.179       200       28       6\n",
      "41   236.598       130       25       8\n",
      "42   669.811       190       34       8\n",
      "43   612.234       150       21       6\n",
      "44   922.019       230       34       7\n",
      "45    50.000       310       63       7\n",
      "46  2000.000       340       31       7\n",
      "47  1054.027       240       25       7\n",
      "48   385.045       180       42       7\n",
      "49  1507.972       220       37       7\n",
      "50   102.568        40       25       8\n",
      "51   204.568       190       26       7\n",
      "52  1170.918       290       39       7\n",
      "53   689.547       340       46       7\n",
      "54   784.220       250       36       6\n",
      "55   405.913       190       12       4\n",
      "56   179.778       120        2       8\n",
      "57   607.258       230       29       8\n",
      "58  1542.329       190       33       8\n",
      "59  1112.470       210       28       7\n",
      "60   856.985       170       10       6\n",
      "61   836.331       310       38       7\n",
      "62   236.908        90       19       4\n",
      "63  1077.855       140       13       6\n",
      "64   579.321       300       30       7\n",
      "65  1500.000       340       38       8\n",
      "66   731.364       170       22       8\n",
      "67    25.689       100       23       6\n",
      "68   391.749       200       22       9\n",
      "69   233.999        80       20       7\n",
      "70   275.700       100       18       6\n",
      "71    56.895        70       37       7\n",
      "72   255.117        50       16       8\n",
      "73   566.501       240       32       8\n",
      "74   102.568       160       26       5\n",
      "75   250.568       290       53       9\n",
      "76    68.594       140       28       7\n",
      "77   642.786       210       32       7\n",
      "78  1500.000       300       24       7\n",
      "79   102.563       230       37       6\n",
      "80   756.984       280       30       8\n",
      "81    51.229       160       19       7\n",
      "82   644.151       200       47       6\n",
      "83    15.313       110       22       5\n",
      "84   243.237       110       10       8\n",
      "85   256.894        70        1       4\n",
      "86    22.464       100        1       6\n",
      "87    45.689       190       39       6\n",
      "88   724.938        70        8       5\n",
      "89  1126.461       360       38       7\n",
      "90  1985.119       360       35       5\n",
      "91  1837.516       300       40       5\n",
      "92   135.986       120       22       7\n",
      "93   237.703       150       27       8\n",
      "94   976.641       220       31       6\n",
      "95  1452.689       280       19       7\n",
      "96  1600.000       300       24       9\n",
      "97   268.598       140        1       7\n",
      "98   900.889       290       38       8\n",
      "99   982.063       180       26       6\n",
      "100  201.356       140       11       6\n",
      "101  746.024       210       34       6\n",
      "102 1132.877       250       55       7\n",
      "103 1000.000       250        5       7\n",
      "104   75.896       120       34       6\n",
      "105 1351.254       290       37       9\n",
      "106  202.705        60       13       8\n",
      "107  365.985       140       23       6\n",
      "108  305.268       290       54       6\n",
      "109  263.268       160       18       7\n",
      "110  513.694       100        2       7\n",
      "111  152.609       160       11       6\n",
      "112   35.987       150       30       8\n",
      "113  102.568       140       22       7\n",
      "114  215.368       230       36       6\n",
      "115  426.784       230       37       8\n",
      "116  507.772        30        9       3\n",
      "117  233.291        80        2       7\n",
      "118 1035.433       190       12       8\n",
      "119  102.642        90        5       9\n",
      "120  526.142       120       14       7\n",
      "121  624.538       150       20       5\n",
      "122  912.349       230       57       6\n",
      "123  215.994       150       19       8\n",
      "124  561.963       210       35       7\n",
      "125  474.760       180       22       5\n",
      "126  231.523       140       16       7\n",
      "127  678.596       360       53       7\n",
      "128   70.922        10        4       6\n",
      "129 1567.548       240       29       6\n",
      "130  263.598       270       43       7\n",
      "131 1423.568       290       26       7\n",
      "132  715.678       220       28       7\n",
      "133  777.237       230       37       8\n",
      "134  509.430       220       32       5\n",
      "135  964.110       240       34       7\n",
      "136  583.627       260       30       7\n",
      "137  923.373       170       15       7\n",
      "138  344.392       130       23       7\n",
      "139 1095.578       270       31       8\n",
      "140  100.025       140       21       5\n",
      "141   30.425        60       28       1\n",
      "142 1080.342       210       18       7\n",
      "143  799.899       210       28       7\n",
      "144 1071.752       240       37       8\n",
      "145  893.355       210       26       6\n",
      "146  283.161       200       30       8\n",
      "147  917.017       140       10       7\n",
      "148  234.568        90       21       7\n",
      "149  456.897       120       18       9\n",
      "150  206.973       100       14       7\n",
      "151 1294.099       360       38       7\n",
      "152  826.859       180       36       6\n",
      "153  564.158       150       32       7\n",
      "154  192.607       110        9       5\n",
      "155   10.652        90       39       5\n",
      "156   45.689       160       24       7\n",
      "157   42.568       230       45       7\n",
      "158   20.456        40       13       8\n",
      "159  635.192        60       17       6\n",
      "160 1002.273       230       32       7\n",
      "161 1177.047       230       23       6\n",
      "162  507.638       120        0       6\n",
      "163  215.689       150       35       5\n",
      "164  526.480       120       26       6\n",
      "165   26.895        60       19       6\n",
      "166  883.877       280       26       7\n",
      "167    9.104       120       53       8\n",
      "168  103.568       230       29       8\n",
      "169  169.583       230       28       7\n",
      "170  429.504        40       17       6\n",
      "171  223.639       140       26       8\n",
      "172  145.585       360       42       8\n",
      "173  985.968       210       17       6\n",
      "174  500.922       260       36       8\n",
      "175  226.652       250       45       7\n",
      "176 1051.168       200       20       7\n",
      "177   68.093       150       15       7\n",
      "178 1547.159       250       28       8\n",
      "179  393.774       100       27       6\n",
      "180  804.282       260       17       8\n",
      "181  801.577       210       32       8\n",
      "182  450.562       290       46       9\n",
      "183   26.598       220       47       8\n",
      "184  179.061        70       19       1\n",
      "185  345.687       110       22       8\n",
      "186  295.840       250       55       9\n",
      "187 2271.860       320       31       5\n",
      "188 1134.575       300       39       8\n",
      "189  601.434       180       21       6\n",
      "190   45.298       180       36       6\n",
      "191  759.518       200       21       7\n",
      "192  832.869       320       44       7\n",
      "193   56.894       140       27       7\n",
      "194  709.399       100       16       6\n",
      "195   56.895       120       33       6\n",
      "196  767.134       230       33       8\n",
      "197  503.172       150       21       7\n",
      "198  700.929       250       35       9\n",
      "199  910.851       190       26       7\n",
      "200  888.569       240       14       6\n",
      "201  800.615       250       34       6\n",
      "202 1500.000       230       11       8\n",
      "203  785.694       110       20       9\n"
     ]
    }
   ],
   "source": [
    "sales <- read.delim(\"path/sales.dat\")\n",
    "print(sales)"
   ]
  },
  {
   "cell_type": "markdown",
   "metadata": {},
   "source": [
    "Examine your data. Are there data points that requires special attention? \n",
    "How can you find out?\n",
    "\n",
    "The function summary() is a good starting point. "
   ]
  },
  {
   "cell_type": "code",
   "execution_count": 5,
   "metadata": {
    "collapsed": false
   },
   "outputs": [
    {
     "data": {
      "text/plain": [
       "    adverts            sales              airplay            attract      \n",
       " Min.   :   9.104   Length:203         Min.   :       0   Min.   : 1.000  \n",
       " 1st Qu.: 216.994   Class :character   1st Qu.:      20   1st Qu.: 6.000  \n",
       " Median : 526.480   Mode  :character   Median :      28   Median : 7.000  \n",
       " Mean   : 614.022                      Mean   :  495077   Mean   : 6.757  \n",
       " 3rd Qu.: 911.600                      3rd Qu.:      36   3rd Qu.: 8.000  \n",
       " Max.   :2271.860                      Max.   :99999999   Max.   :10.000  \n",
       "                                       NA's   :1          NA's   :1       "
      ]
     },
     "metadata": {},
     "output_type": "display_data"
    }
   ],
   "source": [
    "summary(sales)"
   ]
  },
  {
   "cell_type": "markdown",
   "metadata": {},
   "source": [
    "The output highlights that sales is a factor (it should be an integer, it’s the number of albums sold), and that the airplay and attract columns contain NA values.\n",
    "Also, the maximum values of airplay looks suspiciously large (it’s unlikely that any song has been played on the radio 99 million times in a week, even if it may feel like it for some pop hits).\n"
   ]
  },
  {
   "cell_type": "markdown",
   "metadata": {},
   "source": [
    "Check if your data frame contains NA values. \n",
    "\n",
    "To find which rows contain NA values you can use the command:"
   ]
  },
  {
   "cell_type": "code",
   "execution_count": 8,
   "metadata": {
    "collapsed": false
   },
   "outputs": [
    {
     "data": {
      "text/html": [
       "9"
      ],
      "text/latex": [
       "9"
      ],
      "text/markdown": [
       "9"
      ],
      "text/plain": [
       "[1] 9"
      ]
     },
     "metadata": {},
     "output_type": "display_data"
    }
   ],
   "source": [
    "which(is.na(sales$airplay))"
   ]
  },
  {
   "cell_type": "code",
   "execution_count": 9,
   "metadata": {
    "collapsed": false
   },
   "outputs": [
    {
     "data": {
      "text/html": [
       "9"
      ],
      "text/latex": [
       "9"
      ],
      "text/markdown": [
       "9"
      ],
      "text/plain": [
       "[1] 9"
      ]
     },
     "metadata": {},
     "output_type": "display_data"
    }
   ],
   "source": [
    "which(is.na(sales$attract))"
   ]
  },
  {
   "cell_type": "markdown",
   "metadata": {},
   "source": [
    "To remove a row by index:"
   ]
  },
  {
   "cell_type": "code",
   "execution_count": 10,
   "metadata": {
    "collapsed": true
   },
   "outputs": [],
   "source": [
    "sales <- sales[-9, ]"
   ]
  },
  {
   "cell_type": "markdown",
   "metadata": {},
   "source": [
    "To find and remove all rows containing NA values (all in one go):"
   ]
  },
  {
   "cell_type": "code",
   "execution_count": 11,
   "metadata": {
    "collapsed": false
   },
   "outputs": [
    {
     "name": "stdout",
     "output_type": "stream",
     "text": [
      "     adverts     sales  airplay attract\n",
      "1     10.256       330       43      10\n",
      "2    985.685       120       28       7\n",
      "3   1445.563       360       35       7\n",
      "4   1188.193       270       33       7\n",
      "5    574.513       220       44       5\n",
      "6    568.954       170       19       5\n",
      "7    471.814        70       20       1\n",
      "8    537.352       210       22       9\n",
      "10   514.068       200       21       7\n",
      "11   174.093       300       40       7\n",
      "12  1720.806       290       32       7\n",
      "13   611.479        70       20       2\n",
      "14   251.192       150       24       8\n",
      "15    97.972       190       38       6\n",
      "16   406.814       240       24       7\n",
      "17   265.398       100       25       5\n",
      "18  1323.287       250       35       5\n",
      "19   950.982       240 99999999       4\n",
      "20   196.650       210       36       8\n",
      "21  1326.598       280       27       8\n",
      "22  1380.689       230       33       8\n",
      "23   792.345       210       33       7\n",
      "24   957.167       230       28       6\n",
      "25  1789.659       320       30       9\n",
      "26   656.137       210       34       7\n",
      "27   613.697       230       49       7\n",
      "28   313.362       250       40       8\n",
      "29   313.000 249albums       39       7\n",
      "30   336.510        60       20       4\n",
      "31  1544.899       330       42       7\n",
      "32    68.954       150       35       8\n",
      "33   785.692       150        8       6\n",
      "34   125.628       180       49       7\n",
      "35   377.925        80       19       8\n",
      "36   217.994       180       42       6\n",
      "37   759.862       130        6       7\n",
      "38  1163.444       320       36       6\n",
      "39   842.957       280       32       7\n",
      "40   125.179       200       28       6\n",
      "41   236.598       130       25       8\n",
      "42   669.811       190       34       8\n",
      "43   612.234       150       21       6\n",
      "44   922.019       230       34       7\n",
      "45    50.000       310       63       7\n",
      "46  2000.000       340       31       7\n",
      "47  1054.027       240       25       7\n",
      "48   385.045       180       42       7\n",
      "49  1507.972       220       37       7\n",
      "50   102.568        40       25       8\n",
      "51   204.568       190       26       7\n",
      "52  1170.918       290       39       7\n",
      "53   689.547       340       46       7\n",
      "54   784.220       250       36       6\n",
      "55   405.913       190       12       4\n",
      "56   179.778       120        2       8\n",
      "57   607.258       230       29       8\n",
      "58  1542.329       190       33       8\n",
      "59  1112.470       210       28       7\n",
      "60   856.985       170       10       6\n",
      "61   836.331       310       38       7\n",
      "62   236.908        90       19       4\n",
      "63  1077.855       140       13       6\n",
      "64   579.321       300       30       7\n",
      "65  1500.000       340       38       8\n",
      "66   731.364       170       22       8\n",
      "67    25.689       100       23       6\n",
      "68   391.749       200       22       9\n",
      "69   233.999        80       20       7\n",
      "70   275.700       100       18       6\n",
      "71    56.895        70       37       7\n",
      "72   255.117        50       16       8\n",
      "73   566.501       240       32       8\n",
      "74   102.568       160       26       5\n",
      "75   250.568       290       53       9\n",
      "76    68.594       140       28       7\n",
      "77   642.786       210       32       7\n",
      "78  1500.000       300       24       7\n",
      "79   102.563       230       37       6\n",
      "80   756.984       280       30       8\n",
      "81    51.229       160       19       7\n",
      "82   644.151       200       47       6\n",
      "83    15.313       110       22       5\n",
      "84   243.237       110       10       8\n",
      "85   256.894        70        1       4\n",
      "86    22.464       100        1       6\n",
      "87    45.689       190       39       6\n",
      "88   724.938        70        8       5\n",
      "89  1126.461       360       38       7\n",
      "90  1985.119       360       35       5\n",
      "91  1837.516       300       40       5\n",
      "92   135.986       120       22       7\n",
      "93   237.703       150       27       8\n",
      "94   976.641       220       31       6\n",
      "95  1452.689       280       19       7\n",
      "96  1600.000       300       24       9\n",
      "97   268.598       140        1       7\n",
      "98   900.889       290       38       8\n",
      "99   982.063       180       26       6\n",
      "100  201.356       140       11       6\n",
      "101  746.024       210       34       6\n",
      "102 1132.877       250       55       7\n",
      "103 1000.000       250        5       7\n",
      "104   75.896       120       34       6\n",
      "105 1351.254       290       37       9\n",
      "106  202.705        60       13       8\n",
      "107  365.985       140       23       6\n",
      "108  305.268       290       54       6\n",
      "109  263.268       160       18       7\n",
      "110  513.694       100        2       7\n",
      "111  152.609       160       11       6\n",
      "112   35.987       150       30       8\n",
      "113  102.568       140       22       7\n",
      "114  215.368       230       36       6\n",
      "115  426.784       230       37       8\n",
      "116  507.772        30        9       3\n",
      "117  233.291        80        2       7\n",
      "118 1035.433       190       12       8\n",
      "119  102.642        90        5       9\n",
      "120  526.142       120       14       7\n",
      "121  624.538       150       20       5\n",
      "122  912.349       230       57       6\n",
      "123  215.994       150       19       8\n",
      "124  561.963       210       35       7\n",
      "125  474.760       180       22       5\n",
      "126  231.523       140       16       7\n",
      "127  678.596       360       53       7\n",
      "128   70.922        10        4       6\n",
      "129 1567.548       240       29       6\n",
      "130  263.598       270       43       7\n",
      "131 1423.568       290       26       7\n",
      "132  715.678       220       28       7\n",
      "133  777.237       230       37       8\n",
      "134  509.430       220       32       5\n",
      "135  964.110       240       34       7\n",
      "136  583.627       260       30       7\n",
      "137  923.373       170       15       7\n",
      "138  344.392       130       23       7\n",
      "139 1095.578       270       31       8\n",
      "140  100.025       140       21       5\n",
      "141   30.425        60       28       1\n",
      "142 1080.342       210       18       7\n",
      "143  799.899       210       28       7\n",
      "144 1071.752       240       37       8\n",
      "145  893.355       210       26       6\n",
      "146  283.161       200       30       8\n",
      "147  917.017       140       10       7\n",
      "148  234.568        90       21       7\n",
      "149  456.897       120       18       9\n",
      "150  206.973       100       14       7\n",
      "151 1294.099       360       38       7\n",
      "152  826.859       180       36       6\n",
      "153  564.158       150       32       7\n",
      "154  192.607       110        9       5\n",
      "155   10.652        90       39       5\n",
      "156   45.689       160       24       7\n",
      "157   42.568       230       45       7\n",
      "158   20.456        40       13       8\n",
      "159  635.192        60       17       6\n",
      "160 1002.273       230       32       7\n",
      "161 1177.047       230       23       6\n",
      "162  507.638       120        0       6\n",
      "163  215.689       150       35       5\n",
      "164  526.480       120       26       6\n",
      "165   26.895        60       19       6\n",
      "166  883.877       280       26       7\n",
      "167    9.104       120       53       8\n",
      "168  103.568       230       29       8\n",
      "169  169.583       230       28       7\n",
      "170  429.504        40       17       6\n",
      "171  223.639       140       26       8\n",
      "172  145.585       360       42       8\n",
      "173  985.968       210       17       6\n",
      "174  500.922       260       36       8\n",
      "175  226.652       250       45       7\n",
      "176 1051.168       200       20       7\n",
      "177   68.093       150       15       7\n",
      "178 1547.159       250       28       8\n",
      "179  393.774       100       27       6\n",
      "180  804.282       260       17       8\n",
      "181  801.577       210       32       8\n",
      "182  450.562       290       46       9\n",
      "183   26.598       220       47       8\n",
      "184  179.061        70       19       1\n",
      "185  345.687       110       22       8\n",
      "186  295.840       250       55       9\n",
      "187 2271.860       320       31       5\n",
      "188 1134.575       300       39       8\n",
      "189  601.434       180       21       6\n",
      "190   45.298       180       36       6\n",
      "191  759.518       200       21       7\n",
      "192  832.869       320       44       7\n",
      "193   56.894       140       27       7\n",
      "194  709.399       100       16       6\n",
      "195   56.895       120       33       6\n",
      "196  767.134       230       33       8\n",
      "197  503.172       150       21       7\n",
      "198  700.929       250       35       9\n",
      "199  910.851       190       26       7\n",
      "200  888.569       240       14       6\n",
      "201  800.615       250       34       6\n",
      "202 1500.000       230       11       8\n",
      "203  785.694       110       20       9\n"
     ]
    }
   ],
   "source": [
    "sales <- sales[complete.cases(sales), ]\n",
    "print(sales)"
   ]
  },
  {
   "cell_type": "markdown",
   "metadata": {},
   "source": [
    "Check the type of each column:"
   ]
  },
  {
   "cell_type": "code",
   "execution_count": 12,
   "metadata": {
    "collapsed": false
   },
   "outputs": [
    {
     "data": {
      "text/html": [
       "<style>\n",
       ".dl-inline {width: auto; margin:0; padding: 0}\n",
       ".dl-inline>dt, .dl-inline>dd {float: none; width: auto; display: inline-block}\n",
       ".dl-inline>dt::after {content: \":\\0020\"; padding-right: .5ex}\n",
       ".dl-inline>dt:not(:first-of-type) {padding-left: .5ex}\n",
       "</style><dl class=dl-inline><dt>adverts</dt><dd>'numeric'</dd><dt>sales</dt><dd>'character'</dd><dt>airplay</dt><dd>'integer'</dd><dt>attract</dt><dd>'integer'</dd></dl>\n"
      ],
      "text/latex": [
       "\\begin{description*}\n",
       "\\item[adverts] 'numeric'\n",
       "\\item[sales] 'character'\n",
       "\\item[airplay] 'integer'\n",
       "\\item[attract] 'integer'\n",
       "\\end{description*}\n"
      ],
      "text/markdown": [
       "adverts\n",
       ":   'numeric'sales\n",
       ":   'character'airplay\n",
       ":   'integer'attract\n",
       ":   'integer'\n",
       "\n"
      ],
      "text/plain": [
       "    adverts       sales     airplay     attract \n",
       "  \"numeric\" \"character\"   \"integer\"   \"integer\" "
      ]
     },
     "metadata": {},
     "output_type": "display_data"
    }
   ],
   "source": [
    "sapply(sales, class)"
   ]
  },
  {
   "cell_type": "markdown",
   "metadata": {},
   "source": [
    "Now, correct the data and make sure the column type is now appropriate for the analysis.\n",
    "First converte the column to character, then again to numeric (forcing a column into another data type is called coercion):"
   ]
  },
  {
   "cell_type": "code",
   "execution_count": 13,
   "metadata": {
    "collapsed": false
   },
   "outputs": [
    {
     "name": "stderr",
     "output_type": "stream",
     "text": [
      "Warning message in eval(expr, envir, enclos):\n",
      "\"NAs introduced by coercion\"\n"
     ]
    }
   ],
   "source": [
    "converted_sales_column <- as.numeric(as.character(sales$sales))"
   ]
  },
  {
   "cell_type": "markdown",
   "metadata": {},
   "source": [
    "Then find the NA values indices:"
   ]
  },
  {
   "cell_type": "code",
   "execution_count": 14,
   "metadata": {
    "collapsed": false
   },
   "outputs": [
    {
     "data": {
      "text/html": [
       "28"
      ],
      "text/latex": [
       "28"
      ],
      "text/markdown": [
       "28"
      ],
      "text/plain": [
       "[1] 28"
      ]
     },
     "metadata": {},
     "output_type": "display_data"
    }
   ],
   "source": [
    "which(is.na(converted_sales_column))"
   ]
  },
  {
   "cell_type": "markdown",
   "metadata": {},
   "source": [
    "Or, in one long command:"
   ]
  },
  {
   "cell_type": "code",
   "execution_count": 16,
   "metadata": {
    "collapsed": false
   },
   "outputs": [
    {
     "name": "stderr",
     "output_type": "stream",
     "text": [
      "Warning message in which(is.na(as.numeric(as.character(sales$sales)))):\n",
      "\"NAs introduced by coercion\"\n"
     ]
    },
    {
     "data": {
      "text/html": [
       "28"
      ],
      "text/latex": [
       "28"
      ],
      "text/markdown": [
       "28"
      ],
      "text/plain": [
       "[1] 28"
      ]
     },
     "metadata": {},
     "output_type": "display_data"
    }
   ],
   "source": [
    "which(is.na(as.numeric(as.character(sales$sales))))"
   ]
  },
  {
   "cell_type": "markdown",
   "metadata": {},
   "source": [
    "Or you can \n",
    "\t- Coerce the column from factor to integer (not numeric, as there cannot be decimal places in the number of albums sold, in this example you cannot sell a third of an album)\n",
    "\t- Correct the now missing (NA) cell value in row 28\n",
    "\t- Put the column back into the data frame"
   ]
  },
  {
   "cell_type": "code",
   "execution_count": 18,
   "metadata": {
    "collapsed": false
   },
   "outputs": [
    {
     "name": "stderr",
     "output_type": "stream",
     "text": [
      "Warning message in eval(expr, envir, enclos):\n",
      "\"NAs introduced by coercion\"\n"
     ]
    },
    {
     "data": {
      "text/html": [
       "<style>\n",
       ".list-inline {list-style: none; margin:0; padding: 0}\n",
       ".list-inline>li {display: inline-block}\n",
       ".list-inline>li:not(:last-child)::after {content: \"\\00b7\"; padding: 0 .5ex}\n",
       "</style>\n",
       "<ol class=list-inline><li>330</li><li>120</li><li>360</li><li>270</li><li>220</li><li>170</li><li>70</li><li>210</li><li>200</li><li>300</li><li>290</li><li>70</li><li>150</li><li>190</li><li>240</li><li>100</li><li>250</li><li>240</li><li>210</li><li>280</li><li>230</li><li>210</li><li>230</li><li>320</li><li>210</li><li>230</li><li>250</li><li>&lt;NA&gt;</li><li>60</li><li>330</li><li>150</li><li>150</li><li>180</li><li>80</li><li>180</li><li>130</li><li>320</li><li>280</li><li>200</li><li>130</li><li>190</li><li>150</li><li>230</li><li>310</li><li>340</li><li>240</li><li>180</li><li>220</li><li>40</li><li>190</li><li>290</li><li>340</li><li>250</li><li>190</li><li>120</li><li>230</li><li>190</li><li>210</li><li>170</li><li>310</li><li>90</li><li>140</li><li>300</li><li>340</li><li>170</li><li>100</li><li>200</li><li>80</li><li>100</li><li>70</li><li>50</li><li>240</li><li>160</li><li>290</li><li>140</li><li>210</li><li>300</li><li>230</li><li>280</li><li>160</li><li>200</li><li>110</li><li>110</li><li>70</li><li>100</li><li>190</li><li>70</li><li>360</li><li>360</li><li>300</li><li>120</li><li>150</li><li>220</li><li>280</li><li>300</li><li>140</li><li>290</li><li>180</li><li>140</li><li>210</li><li>250</li><li>250</li><li>120</li><li>290</li><li>60</li><li>140</li><li>290</li><li>160</li><li>100</li><li>160</li><li>150</li><li>140</li><li>230</li><li>230</li><li>30</li><li>80</li><li>190</li><li>90</li><li>120</li><li>150</li><li>230</li><li>150</li><li>210</li><li>180</li><li>140</li><li>360</li><li>10</li><li>240</li><li>270</li><li>290</li><li>220</li><li>230</li><li>220</li><li>240</li><li>260</li><li>170</li><li>130</li><li>270</li><li>140</li><li>60</li><li>210</li><li>210</li><li>240</li><li>210</li><li>200</li><li>140</li><li>90</li><li>120</li><li>100</li><li>360</li><li>180</li><li>150</li><li>110</li><li>90</li><li>160</li><li>230</li><li>40</li><li>60</li><li>230</li><li>230</li><li>120</li><li>150</li><li>120</li><li>60</li><li>280</li><li>120</li><li>230</li><li>230</li><li>40</li><li>140</li><li>360</li><li>210</li><li>260</li><li>250</li><li>200</li><li>150</li><li>250</li><li>100</li><li>260</li><li>210</li><li>290</li><li>220</li><li>70</li><li>110</li><li>250</li><li>320</li><li>300</li><li>180</li><li>180</li><li>200</li><li>320</li><li>140</li><li>100</li><li>120</li><li>230</li><li>150</li><li>250</li><li>190</li><li>240</li><li>250</li><li>230</li><li>110</li></ol>\n"
      ],
      "text/latex": [
       "\\begin{enumerate*}\n",
       "\\item 330\n",
       "\\item 120\n",
       "\\item 360\n",
       "\\item 270\n",
       "\\item 220\n",
       "\\item 170\n",
       "\\item 70\n",
       "\\item 210\n",
       "\\item 200\n",
       "\\item 300\n",
       "\\item 290\n",
       "\\item 70\n",
       "\\item 150\n",
       "\\item 190\n",
       "\\item 240\n",
       "\\item 100\n",
       "\\item 250\n",
       "\\item 240\n",
       "\\item 210\n",
       "\\item 280\n",
       "\\item 230\n",
       "\\item 210\n",
       "\\item 230\n",
       "\\item 320\n",
       "\\item 210\n",
       "\\item 230\n",
       "\\item 250\n",
       "\\item <NA>\n",
       "\\item 60\n",
       "\\item 330\n",
       "\\item 150\n",
       "\\item 150\n",
       "\\item 180\n",
       "\\item 80\n",
       "\\item 180\n",
       "\\item 130\n",
       "\\item 320\n",
       "\\item 280\n",
       "\\item 200\n",
       "\\item 130\n",
       "\\item 190\n",
       "\\item 150\n",
       "\\item 230\n",
       "\\item 310\n",
       "\\item 340\n",
       "\\item 240\n",
       "\\item 180\n",
       "\\item 220\n",
       "\\item 40\n",
       "\\item 190\n",
       "\\item 290\n",
       "\\item 340\n",
       "\\item 250\n",
       "\\item 190\n",
       "\\item 120\n",
       "\\item 230\n",
       "\\item 190\n",
       "\\item 210\n",
       "\\item 170\n",
       "\\item 310\n",
       "\\item 90\n",
       "\\item 140\n",
       "\\item 300\n",
       "\\item 340\n",
       "\\item 170\n",
       "\\item 100\n",
       "\\item 200\n",
       "\\item 80\n",
       "\\item 100\n",
       "\\item 70\n",
       "\\item 50\n",
       "\\item 240\n",
       "\\item 160\n",
       "\\item 290\n",
       "\\item 140\n",
       "\\item 210\n",
       "\\item 300\n",
       "\\item 230\n",
       "\\item 280\n",
       "\\item 160\n",
       "\\item 200\n",
       "\\item 110\n",
       "\\item 110\n",
       "\\item 70\n",
       "\\item 100\n",
       "\\item 190\n",
       "\\item 70\n",
       "\\item 360\n",
       "\\item 360\n",
       "\\item 300\n",
       "\\item 120\n",
       "\\item 150\n",
       "\\item 220\n",
       "\\item 280\n",
       "\\item 300\n",
       "\\item 140\n",
       "\\item 290\n",
       "\\item 180\n",
       "\\item 140\n",
       "\\item 210\n",
       "\\item 250\n",
       "\\item 250\n",
       "\\item 120\n",
       "\\item 290\n",
       "\\item 60\n",
       "\\item 140\n",
       "\\item 290\n",
       "\\item 160\n",
       "\\item 100\n",
       "\\item 160\n",
       "\\item 150\n",
       "\\item 140\n",
       "\\item 230\n",
       "\\item 230\n",
       "\\item 30\n",
       "\\item 80\n",
       "\\item 190\n",
       "\\item 90\n",
       "\\item 120\n",
       "\\item 150\n",
       "\\item 230\n",
       "\\item 150\n",
       "\\item 210\n",
       "\\item 180\n",
       "\\item 140\n",
       "\\item 360\n",
       "\\item 10\n",
       "\\item 240\n",
       "\\item 270\n",
       "\\item 290\n",
       "\\item 220\n",
       "\\item 230\n",
       "\\item 220\n",
       "\\item 240\n",
       "\\item 260\n",
       "\\item 170\n",
       "\\item 130\n",
       "\\item 270\n",
       "\\item 140\n",
       "\\item 60\n",
       "\\item 210\n",
       "\\item 210\n",
       "\\item 240\n",
       "\\item 210\n",
       "\\item 200\n",
       "\\item 140\n",
       "\\item 90\n",
       "\\item 120\n",
       "\\item 100\n",
       "\\item 360\n",
       "\\item 180\n",
       "\\item 150\n",
       "\\item 110\n",
       "\\item 90\n",
       "\\item 160\n",
       "\\item 230\n",
       "\\item 40\n",
       "\\item 60\n",
       "\\item 230\n",
       "\\item 230\n",
       "\\item 120\n",
       "\\item 150\n",
       "\\item 120\n",
       "\\item 60\n",
       "\\item 280\n",
       "\\item 120\n",
       "\\item 230\n",
       "\\item 230\n",
       "\\item 40\n",
       "\\item 140\n",
       "\\item 360\n",
       "\\item 210\n",
       "\\item 260\n",
       "\\item 250\n",
       "\\item 200\n",
       "\\item 150\n",
       "\\item 250\n",
       "\\item 100\n",
       "\\item 260\n",
       "\\item 210\n",
       "\\item 290\n",
       "\\item 220\n",
       "\\item 70\n",
       "\\item 110\n",
       "\\item 250\n",
       "\\item 320\n",
       "\\item 300\n",
       "\\item 180\n",
       "\\item 180\n",
       "\\item 200\n",
       "\\item 320\n",
       "\\item 140\n",
       "\\item 100\n",
       "\\item 120\n",
       "\\item 230\n",
       "\\item 150\n",
       "\\item 250\n",
       "\\item 190\n",
       "\\item 240\n",
       "\\item 250\n",
       "\\item 230\n",
       "\\item 110\n",
       "\\end{enumerate*}\n"
      ],
      "text/markdown": [
       "1. 330\n",
       "2. 120\n",
       "3. 360\n",
       "4. 270\n",
       "5. 220\n",
       "6. 170\n",
       "7. 70\n",
       "8. 210\n",
       "9. 200\n",
       "10. 300\n",
       "11. 290\n",
       "12. 70\n",
       "13. 150\n",
       "14. 190\n",
       "15. 240\n",
       "16. 100\n",
       "17. 250\n",
       "18. 240\n",
       "19. 210\n",
       "20. 280\n",
       "21. 230\n",
       "22. 210\n",
       "23. 230\n",
       "24. 320\n",
       "25. 210\n",
       "26. 230\n",
       "27. 250\n",
       "28. &lt;NA&gt;\n",
       "29. 60\n",
       "30. 330\n",
       "31. 150\n",
       "32. 150\n",
       "33. 180\n",
       "34. 80\n",
       "35. 180\n",
       "36. 130\n",
       "37. 320\n",
       "38. 280\n",
       "39. 200\n",
       "40. 130\n",
       "41. 190\n",
       "42. 150\n",
       "43. 230\n",
       "44. 310\n",
       "45. 340\n",
       "46. 240\n",
       "47. 180\n",
       "48. 220\n",
       "49. 40\n",
       "50. 190\n",
       "51. 290\n",
       "52. 340\n",
       "53. 250\n",
       "54. 190\n",
       "55. 120\n",
       "56. 230\n",
       "57. 190\n",
       "58. 210\n",
       "59. 170\n",
       "60. 310\n",
       "61. 90\n",
       "62. 140\n",
       "63. 300\n",
       "64. 340\n",
       "65. 170\n",
       "66. 100\n",
       "67. 200\n",
       "68. 80\n",
       "69. 100\n",
       "70. 70\n",
       "71. 50\n",
       "72. 240\n",
       "73. 160\n",
       "74. 290\n",
       "75. 140\n",
       "76. 210\n",
       "77. 300\n",
       "78. 230\n",
       "79. 280\n",
       "80. 160\n",
       "81. 200\n",
       "82. 110\n",
       "83. 110\n",
       "84. 70\n",
       "85. 100\n",
       "86. 190\n",
       "87. 70\n",
       "88. 360\n",
       "89. 360\n",
       "90. 300\n",
       "91. 120\n",
       "92. 150\n",
       "93. 220\n",
       "94. 280\n",
       "95. 300\n",
       "96. 140\n",
       "97. 290\n",
       "98. 180\n",
       "99. 140\n",
       "100. 210\n",
       "101. 250\n",
       "102. 250\n",
       "103. 120\n",
       "104. 290\n",
       "105. 60\n",
       "106. 140\n",
       "107. 290\n",
       "108. 160\n",
       "109. 100\n",
       "110. 160\n",
       "111. 150\n",
       "112. 140\n",
       "113. 230\n",
       "114. 230\n",
       "115. 30\n",
       "116. 80\n",
       "117. 190\n",
       "118. 90\n",
       "119. 120\n",
       "120. 150\n",
       "121. 230\n",
       "122. 150\n",
       "123. 210\n",
       "124. 180\n",
       "125. 140\n",
       "126. 360\n",
       "127. 10\n",
       "128. 240\n",
       "129. 270\n",
       "130. 290\n",
       "131. 220\n",
       "132. 230\n",
       "133. 220\n",
       "134. 240\n",
       "135. 260\n",
       "136. 170\n",
       "137. 130\n",
       "138. 270\n",
       "139. 140\n",
       "140. 60\n",
       "141. 210\n",
       "142. 210\n",
       "143. 240\n",
       "144. 210\n",
       "145. 200\n",
       "146. 140\n",
       "147. 90\n",
       "148. 120\n",
       "149. 100\n",
       "150. 360\n",
       "151. 180\n",
       "152. 150\n",
       "153. 110\n",
       "154. 90\n",
       "155. 160\n",
       "156. 230\n",
       "157. 40\n",
       "158. 60\n",
       "159. 230\n",
       "160. 230\n",
       "161. 120\n",
       "162. 150\n",
       "163. 120\n",
       "164. 60\n",
       "165. 280\n",
       "166. 120\n",
       "167. 230\n",
       "168. 230\n",
       "169. 40\n",
       "170. 140\n",
       "171. 360\n",
       "172. 210\n",
       "173. 260\n",
       "174. 250\n",
       "175. 200\n",
       "176. 150\n",
       "177. 250\n",
       "178. 100\n",
       "179. 260\n",
       "180. 210\n",
       "181. 290\n",
       "182. 220\n",
       "183. 70\n",
       "184. 110\n",
       "185. 250\n",
       "186. 320\n",
       "187. 300\n",
       "188. 180\n",
       "189. 180\n",
       "190. 200\n",
       "191. 320\n",
       "192. 140\n",
       "193. 100\n",
       "194. 120\n",
       "195. 230\n",
       "196. 150\n",
       "197. 250\n",
       "198. 190\n",
       "199. 240\n",
       "200. 250\n",
       "201. 230\n",
       "202. 110\n",
       "\n",
       "\n"
      ],
      "text/plain": [
       "  [1] 330 120 360 270 220 170  70 210 200 300 290  70 150 190 240 100 250 240\n",
       " [19] 210 280 230 210 230 320 210 230 250  NA  60 330 150 150 180  80 180 130\n",
       " [37] 320 280 200 130 190 150 230 310 340 240 180 220  40 190 290 340 250 190\n",
       " [55] 120 230 190 210 170 310  90 140 300 340 170 100 200  80 100  70  50 240\n",
       " [73] 160 290 140 210 300 230 280 160 200 110 110  70 100 190  70 360 360 300\n",
       " [91] 120 150 220 280 300 140 290 180 140 210 250 250 120 290  60 140 290 160\n",
       "[109] 100 160 150 140 230 230  30  80 190  90 120 150 230 150 210 180 140 360\n",
       "[127]  10 240 270 290 220 230 220 240 260 170 130 270 140  60 210 210 240 210\n",
       "[145] 200 140  90 120 100 360 180 150 110  90 160 230  40  60 230 230 120 150\n",
       "[163] 120  60 280 120 230 230  40 140 360 210 260 250 200 150 250 100 260 210\n",
       "[181] 290 220  70 110 250 320 300 180 180 200 320 140 100 120 230 150 250 190\n",
       "[199] 240 250 230 110"
      ]
     },
     "metadata": {},
     "output_type": "display_data"
    },
    {
     "name": "stdout",
     "output_type": "stream",
     "text": [
      "     adverts sales  airplay attract\n",
      "1     10.256   330       43      10\n",
      "2    985.685   120       28       7\n",
      "3   1445.563   360       35       7\n",
      "4   1188.193   270       33       7\n",
      "5    574.513   220       44       5\n",
      "6    568.954   170       19       5\n",
      "7    471.814    70       20       1\n",
      "8    537.352   210       22       9\n",
      "10   514.068   200       21       7\n",
      "11   174.093   300       40       7\n",
      "12  1720.806   290       32       7\n",
      "13   611.479    70       20       2\n",
      "14   251.192   150       24       8\n",
      "15    97.972   190       38       6\n",
      "16   406.814   240       24       7\n",
      "17   265.398   100       25       5\n",
      "18  1323.287   250       35       5\n",
      "19   950.982   240 99999999       4\n",
      "20   196.650   210       36       8\n",
      "21  1326.598   280       27       8\n",
      "22  1380.689   230       33       8\n",
      "23   792.345   210       33       7\n",
      "24   957.167   230       28       6\n",
      "25  1789.659   320       30       9\n",
      "26   656.137   210       34       7\n",
      "27   613.697   230       49       7\n",
      "28   313.362   250       40       8\n",
      "29   313.000   249       39       7\n",
      "30   336.510    60       20       4\n",
      "31  1544.899   330       42       7\n",
      "32    68.954   150       35       8\n",
      "33   785.692   150        8       6\n",
      "34   125.628   180       49       7\n",
      "35   377.925    80       19       8\n",
      "36   217.994   180       42       6\n",
      "37   759.862   130        6       7\n",
      "38  1163.444   320       36       6\n",
      "39   842.957   280       32       7\n",
      "40   125.179   200       28       6\n",
      "41   236.598   130       25       8\n",
      "42   669.811   190       34       8\n",
      "43   612.234   150       21       6\n",
      "44   922.019   230       34       7\n",
      "45    50.000   310       63       7\n",
      "46  2000.000   340       31       7\n",
      "47  1054.027   240       25       7\n",
      "48   385.045   180       42       7\n",
      "49  1507.972   220       37       7\n",
      "50   102.568    40       25       8\n",
      "51   204.568   190       26       7\n",
      "52  1170.918   290       39       7\n",
      "53   689.547   340       46       7\n",
      "54   784.220   250       36       6\n",
      "55   405.913   190       12       4\n",
      "56   179.778   120        2       8\n",
      "57   607.258   230       29       8\n",
      "58  1542.329   190       33       8\n",
      "59  1112.470   210       28       7\n",
      "60   856.985   170       10       6\n",
      "61   836.331   310       38       7\n",
      "62   236.908    90       19       4\n",
      "63  1077.855   140       13       6\n",
      "64   579.321   300       30       7\n",
      "65  1500.000   340       38       8\n",
      "66   731.364   170       22       8\n",
      "67    25.689   100       23       6\n",
      "68   391.749   200       22       9\n",
      "69   233.999    80       20       7\n",
      "70   275.700   100       18       6\n",
      "71    56.895    70       37       7\n",
      "72   255.117    50       16       8\n",
      "73   566.501   240       32       8\n",
      "74   102.568   160       26       5\n",
      "75   250.568   290       53       9\n",
      "76    68.594   140       28       7\n",
      "77   642.786   210       32       7\n",
      "78  1500.000   300       24       7\n",
      "79   102.563   230       37       6\n",
      "80   756.984   280       30       8\n",
      "81    51.229   160       19       7\n",
      "82   644.151   200       47       6\n",
      "83    15.313   110       22       5\n",
      "84   243.237   110       10       8\n",
      "85   256.894    70        1       4\n",
      "86    22.464   100        1       6\n",
      "87    45.689   190       39       6\n",
      "88   724.938    70        8       5\n",
      "89  1126.461   360       38       7\n",
      "90  1985.119   360       35       5\n",
      "91  1837.516   300       40       5\n",
      "92   135.986   120       22       7\n",
      "93   237.703   150       27       8\n",
      "94   976.641   220       31       6\n",
      "95  1452.689   280       19       7\n",
      "96  1600.000   300       24       9\n",
      "97   268.598   140        1       7\n",
      "98   900.889   290       38       8\n",
      "99   982.063   180       26       6\n",
      "100  201.356   140       11       6\n",
      "101  746.024   210       34       6\n",
      "102 1132.877   250       55       7\n",
      "103 1000.000   250        5       7\n",
      "104   75.896   120       34       6\n",
      "105 1351.254   290       37       9\n",
      "106  202.705    60       13       8\n",
      "107  365.985   140       23       6\n",
      "108  305.268   290       54       6\n",
      "109  263.268   160       18       7\n",
      "110  513.694   100        2       7\n",
      "111  152.609   160       11       6\n",
      "112   35.987   150       30       8\n",
      "113  102.568   140       22       7\n",
      "114  215.368   230       36       6\n",
      "115  426.784   230       37       8\n",
      "116  507.772    30        9       3\n",
      "117  233.291    80        2       7\n",
      "118 1035.433   190       12       8\n",
      "119  102.642    90        5       9\n",
      "120  526.142   120       14       7\n",
      "121  624.538   150       20       5\n",
      "122  912.349   230       57       6\n",
      "123  215.994   150       19       8\n",
      "124  561.963   210       35       7\n",
      "125  474.760   180       22       5\n",
      "126  231.523   140       16       7\n",
      "127  678.596   360       53       7\n",
      "128   70.922    10        4       6\n",
      "129 1567.548   240       29       6\n",
      "130  263.598   270       43       7\n",
      "131 1423.568   290       26       7\n",
      "132  715.678   220       28       7\n",
      "133  777.237   230       37       8\n",
      "134  509.430   220       32       5\n",
      "135  964.110   240       34       7\n",
      "136  583.627   260       30       7\n",
      "137  923.373   170       15       7\n",
      "138  344.392   130       23       7\n",
      "139 1095.578   270       31       8\n",
      "140  100.025   140       21       5\n",
      "141   30.425    60       28       1\n",
      "142 1080.342   210       18       7\n",
      "143  799.899   210       28       7\n",
      "144 1071.752   240       37       8\n",
      "145  893.355   210       26       6\n",
      "146  283.161   200       30       8\n",
      "147  917.017   140       10       7\n",
      "148  234.568    90       21       7\n",
      "149  456.897   120       18       9\n",
      "150  206.973   100       14       7\n",
      "151 1294.099   360       38       7\n",
      "152  826.859   180       36       6\n",
      "153  564.158   150       32       7\n",
      "154  192.607   110        9       5\n",
      "155   10.652    90       39       5\n",
      "156   45.689   160       24       7\n",
      "157   42.568   230       45       7\n",
      "158   20.456    40       13       8\n",
      "159  635.192    60       17       6\n",
      "160 1002.273   230       32       7\n",
      "161 1177.047   230       23       6\n",
      "162  507.638   120        0       6\n",
      "163  215.689   150       35       5\n",
      "164  526.480   120       26       6\n",
      "165   26.895    60       19       6\n",
      "166  883.877   280       26       7\n",
      "167    9.104   120       53       8\n",
      "168  103.568   230       29       8\n",
      "169  169.583   230       28       7\n",
      "170  429.504    40       17       6\n",
      "171  223.639   140       26       8\n",
      "172  145.585   360       42       8\n",
      "173  985.968   210       17       6\n",
      "174  500.922   260       36       8\n",
      "175  226.652   250       45       7\n",
      "176 1051.168   200       20       7\n",
      "177   68.093   150       15       7\n",
      "178 1547.159   250       28       8\n",
      "179  393.774   100       27       6\n",
      "180  804.282   260       17       8\n",
      "181  801.577   210       32       8\n",
      "182  450.562   290       46       9\n",
      "183   26.598   220       47       8\n",
      "184  179.061    70       19       1\n",
      "185  345.687   110       22       8\n",
      "186  295.840   250       55       9\n",
      "187 2271.860   320       31       5\n",
      "188 1134.575   300       39       8\n",
      "189  601.434   180       21       6\n",
      "190   45.298   180       36       6\n",
      "191  759.518   200       21       7\n",
      "192  832.869   320       44       7\n",
      "193   56.894   140       27       7\n",
      "194  709.399   100       16       6\n",
      "195   56.895   120       33       6\n",
      "196  767.134   230       33       8\n",
      "197  503.172   150       21       7\n",
      "198  700.929   250       35       9\n",
      "199  910.851   190       26       7\n",
      "200  888.569   240       14       6\n",
      "201  800.615   250       34       6\n",
      "202 1500.000   230       11       8\n",
      "203  785.694   110       20       9\n"
     ]
    }
   ],
   "source": [
    "corrected_sales <- as.integer(as.character(sales$sales))\n",
    "corrected_sales\n",
    "corrected_sales[28] <- 249\n",
    "sales$sales <- corrected_sales\n",
    "print(sales)"
   ]
  },
  {
   "cell_type": "markdown",
   "metadata": {},
   "source": [
    "Now the data is technically correct, let’s make the data consistent, that is, including only data points meaningful for that domain.  \n",
    "\n",
    "Remove the rows containing dramatic outliers."
   ]
  },
  {
   "cell_type": "code",
   "execution_count": 19,
   "metadata": {
    "collapsed": false
   },
   "outputs": [
    {
     "data": {
      "image/png": "[encoded data removed]",
      "text/plain": [
       "plot without title"
      ]
     },
     "metadata": {
      "image/png": {
       "height": 420,
       "width": 420
      },
      "text/plain": {
       "height": 420,
       "width": 420
      }
     },
     "output_type": "display_data"
    }
   ],
   "source": [
    "plot(sales$adverts, sales$airplay)"
   ]
  },
  {
   "cell_type": "markdown",
   "metadata": {},
   "source": [
    "You can find the data point by selecting any row with high airplay:"
   ]
  },
  {
   "cell_type": "code",
   "execution_count": 20,
   "metadata": {
    "collapsed": false
   },
   "outputs": [
    {
     "data": {
      "text/html": [
       "<style>\n",
       ".list-inline {list-style: none; margin:0; padding: 0}\n",
       ".list-inline>li {display: inline-block}\n",
       ".list-inline>li:not(:last-child)::after {content: \"\\00b7\"; padding: 0 .5ex}\n",
       "</style>\n",
       "<ol class=list-inline><li>18</li><li>44</li><li>74</li><li>101</li><li>107</li><li>121</li><li>126</li><li>166</li><li>185</li></ol>\n"
      ],
      "text/latex": [
       "\\begin{enumerate*}\n",
       "\\item 18\n",
       "\\item 44\n",
       "\\item 74\n",
       "\\item 101\n",
       "\\item 107\n",
       "\\item 121\n",
       "\\item 126\n",
       "\\item 166\n",
       "\\item 185\n",
       "\\end{enumerate*}\n"
      ],
      "text/markdown": [
       "1. 18\n",
       "2. 44\n",
       "3. 74\n",
       "4. 101\n",
       "5. 107\n",
       "6. 121\n",
       "7. 126\n",
       "8. 166\n",
       "9. 185\n",
       "\n",
       "\n"
      ],
      "text/plain": [
       "[1]  18  44  74 101 107 121 126 166 185"
      ]
     },
     "metadata": {},
     "output_type": "display_data"
    }
   ],
   "source": [
    "which(sales$airplay > 50)"
   ]
  },
  {
   "cell_type": "code",
   "execution_count": 21,
   "metadata": {
    "collapsed": false
   },
   "outputs": [
    {
     "data": {
      "text/html": [
       "18"
      ],
      "text/latex": [
       "18"
      ],
      "text/markdown": [
       "18"
      ],
      "text/plain": [
       "[1] 18"
      ]
     },
     "metadata": {},
     "output_type": "display_data"
    }
   ],
   "source": [
    "which(sales$airplay > 100)"
   ]
  },
  {
   "cell_type": "markdown",
   "metadata": {},
   "source": [
    "Remove row 18:"
   ]
  },
  {
   "cell_type": "code",
   "execution_count": 22,
   "metadata": {
    "collapsed": true
   },
   "outputs": [],
   "source": [
    "sales <- sales[-18, ]"
   ]
  },
  {
   "cell_type": "markdown",
   "metadata": {},
   "source": [
    "We had 203 records (data frame rows) initially, now we have 201 left:\n"
   ]
  },
  {
   "cell_type": "code",
   "execution_count": 23,
   "metadata": {
    "collapsed": false
   },
   "outputs": [
    {
     "data": {
      "text/html": [
       "201"
      ],
      "text/latex": [
       "201"
      ],
      "text/markdown": [
       "201"
      ],
      "text/plain": [
       "[1] 201"
      ]
     },
     "metadata": {},
     "output_type": "display_data"
    }
   ],
   "source": [
    "length(sales$airplay)"
   ]
  },
  {
   "cell_type": "markdown",
   "metadata": {},
   "source": [
    "Let's have a look at the plots"
   ]
  },
  {
   "cell_type": "code",
   "execution_count": 24,
   "metadata": {
    "collapsed": false
   },
   "outputs": [
    {
     "data": {
      "image/png": "[encoded data removed]",
      "text/plain": [
       "plot without title"
      ]
     },
     "metadata": {
      "image/png": {
       "height": 420,
       "width": 420
      },
      "text/plain": {
       "height": 420,
       "width": 420
      }
     },
     "output_type": "display_data"
    }
   ],
   "source": [
    "plot(sales$adverts, sales$airplay)"
   ]
  },
  {
   "cell_type": "code",
   "execution_count": 25,
   "metadata": {
    "collapsed": false
   },
   "outputs": [
    {
     "data": {
      "image/png": "[encoded data removed]",
      "text/plain": [
       "plot without title"
      ]
     },
     "metadata": {
      "image/png": {
       "height": 420,
       "width": 420
      },
      "text/plain": {
       "height": 420,
       "width": 420
      }
     },
     "output_type": "display_data"
    }
   ],
   "source": [
    "plot(sales$sales, sales$airplay)"
   ]
  },
  {
   "cell_type": "markdown",
   "metadata": {},
   "source": [
    "Generate in R a multiple linear model to predict sales from airplay and adverts."
   ]
  },
  {
   "cell_type": "code",
   "execution_count": 27,
   "metadata": {
    "collapsed": false
   },
   "outputs": [
    {
     "data": {
      "text/plain": [
       "    adverts             sales          airplay         attract      \n",
       " Min.   :   9.104   Min.   : 10.0   Min.   : 0.00   Min.   : 1.000  \n",
       " 1st Qu.: 215.994   1st Qu.:140.0   1st Qu.:20.00   1st Qu.: 6.000  \n",
       " Median : 526.480   Median :200.0   Median :28.00   Median : 7.000  \n",
       " Mean   : 612.913   Mean   :193.5   Mean   :27.56   Mean   : 6.771  \n",
       " 3rd Qu.: 910.851   3rd Qu.:250.0   3rd Qu.:36.00   3rd Qu.: 8.000  \n",
       " Max.   :2271.860   Max.   :360.0   Max.   :63.00   Max.   :10.000  "
      ]
     },
     "metadata": {},
     "output_type": "display_data"
    }
   ],
   "source": [
    "sales_model <- lm(sales ~ adverts + airplay, data = sales)\n",
    "summary(sales)"
   ]
  },
  {
   "cell_type": "markdown",
   "metadata": {},
   "source": [
    "Generate a model with only one predictor, advertisement:\n",
    "\n"
   ]
  },
  {
   "cell_type": "code",
   "execution_count": 28,
   "metadata": {
    "collapsed": true
   },
   "outputs": [],
   "source": [
    "sales_model_1var <- lm(sales ~ adverts, data = sales)"
   ]
  },
  {
   "cell_type": "markdown",
   "metadata": {},
   "source": [
    "Now update the model to keep the same output and predictors as the input model (this is what the .~. symbols mean, it is not a frowning emoticon) and add the “airplay” and “attract” data:\n",
    "\n"
   ]
  },
  {
   "cell_type": "code",
   "execution_count": 29,
   "metadata": {
    "collapsed": true
   },
   "outputs": [],
   "source": [
    "sales_model_3var <- update(object = sales_model_1var, .~. + airplay + attract)"
   ]
  },
  {
   "cell_type": "markdown",
   "metadata": {},
   "source": [
    "Now compare the two models, the 1var model contains only adverts:"
   ]
  },
  {
   "cell_type": "code",
   "execution_count": 30,
   "metadata": {
    "collapsed": false
   },
   "outputs": [
    {
     "data": {
      "text/plain": [
       "\n",
       "Call:\n",
       "lm(formula = sales ~ adverts, data = sales)\n",
       "\n",
       "Residuals:\n",
       "     Min       1Q   Median       3Q      Max \n",
       "-153.428  -43.864   -0.628   37.063  211.191 \n",
       "\n",
       "Coefficients:\n",
       "             Estimate Std. Error t value Pr(>|t|)    \n",
       "(Intercept) 1.349e+02  7.526e+00  17.924   <2e-16 ***\n",
       "adverts     9.558e-02  9.639e-03   9.917   <2e-16 ***\n",
       "---\n",
       "Signif. codes:  0 '***' 0.001 '**' 0.01 '*' 0.05 '.' 0.1 ' ' 1\n",
       "\n",
       "Residual standard error: 66.1 on 199 degrees of freedom\n",
       "Multiple R-squared:  0.3307,\tAdjusted R-squared:  0.3274 \n",
       "F-statistic: 98.34 on 1 and 199 DF,  p-value: < 2.2e-16\n"
      ]
     },
     "metadata": {},
     "output_type": "display_data"
    }
   ],
   "source": [
    "summary(sales_model_1var)"
   ]
  },
  {
   "cell_type": "markdown",
   "metadata": {},
   "source": [
    "While the 3var model contains also airplay and attractiveness:"
   ]
  },
  {
   "cell_type": "code",
   "execution_count": 31,
   "metadata": {
    "collapsed": false
   },
   "outputs": [
    {
     "data": {
      "text/plain": [
       "\n",
       "Call:\n",
       "lm(formula = sales ~ adverts + airplay + attract, data = sales)\n",
       "\n",
       "Residuals:\n",
       "     Min       1Q   Median       3Q      Max \n",
       "-122.125  -28.324   -0.207   29.243  143.551 \n",
       "\n",
       "Coefficients:\n",
       "              Estimate Std. Error t value Pr(>|t|)    \n",
       "(Intercept) -26.719337  17.337079  -1.541    0.125    \n",
       "adverts       0.084587   0.006909  12.243  < 2e-16 ***\n",
       "airplay       3.383720   0.276904  12.220  < 2e-16 ***\n",
       "attract      11.092158   2.436088   4.553 9.24e-06 ***\n",
       "---\n",
       "Signif. codes:  0 '***' 0.001 '**' 0.01 '*' 0.05 '.' 0.1 ' ' 1\n",
       "\n",
       "Residual standard error: 47.05 on 197 degrees of freedom\n",
       "Multiple R-squared:  0.6642,\tAdjusted R-squared:  0.6591 \n",
       "F-statistic: 129.9 on 3 and 197 DF,  p-value: < 2.2e-16\n"
      ]
     },
     "metadata": {},
     "output_type": "display_data"
    }
   ],
   "source": [
    "summary(sales_model_3var)"
   ]
  },
  {
   "cell_type": "markdown",
   "metadata": {},
   "source": [
    "The adverts-only model accounts for about 32.7% of the variation. The three-predictors model accounts for 65.9% of the variation.\n",
    "Comparing the R squared to the adjusted R squared can give us an idea of how a model generalises. Ideally, we want the R squared and adjusted R squared values to be close. This means that te amount of variation accounted for does not shrink too much when we move from a model derived from a sample (R squared) to a model derived – ideally – from the population (adjusted R squared).\n",
    "Luckily, the variance accounted for does not shrink too much for any of the models (from 33.1% to 32.7% and from 66.4% to 65.9%).\n",
    "\n"
   ]
  },
  {
   "cell_type": "markdown",
   "metadata": {},
   "source": [
    "Adapted from:\n",
    "\n",
    "Discovering statistics using R. Authors: A. Field, J. Miles, Z. Field. Publisher: Sage, 2012 (chapter 7 – Multiple regression, p 261-311)\n",
    "\n",
    "Research methods and statistics 2, Tom Booths and Alex Doumas 2018."
   ]
  },
  {
   "cell_type": "code",
   "execution_count": null,
   "metadata": {
    "collapsed": true
   },
   "outputs": [],
   "source": []
  }
 ],
 "metadata": {
  "kernelspec": {
   "display_name": "R",
   "language": "R",
   "name": "ir"
  },
  "language_info": {
   "codemirror_mode": "r",
   "file_extension": ".r",
   "mimetype": "text/x-r-source",
   "name": "R",
   "pygments_lexer": "r",
   "version": "4.0.0"
  }
 },
 "nbformat": 4,
 "nbformat_minor": 0
}
