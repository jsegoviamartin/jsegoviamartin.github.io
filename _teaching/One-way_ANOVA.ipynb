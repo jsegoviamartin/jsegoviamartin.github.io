{
 "cells": [
  {
   "cell_type": "markdown",
   "metadata": {},
   "source": [
    "## Lab 2: One-way ANOVA"
   ]
  },
  {
   "cell_type": "markdown",
   "metadata": {},
   "source": [
    "The aim of the two ANOVA labs is to explore one-way ANOVA as a generalised linear model.  \n",
    "In this lab we will work mostly through an example analysis using the linear model function, and in the next lab we will tackle the aov() ANOVA function. "
   ]
  },
  {
   "cell_type": "markdown",
   "metadata": {},
   "source": [
    "- If you have only one independent (manipulated) variable and only two conditions (for example, no drug vs with drug) you can compare the means with a t-test.\n",
    "- If you have more than two conditions (for example no drug, a low dose of drug and a high dose of drug) or two or more independent variables, you cannot use multiple t-tests, as this will underestimate errors. You should use ANOVA or linear regression instead.\n",
    "- ANOVA (analysis of variance) and linear regression are both Generalised Linear Models\n",
    "(GLM). They are the same thing.\n",
    "- For historical reasons ANOVA has become more popular in experimental research\n",
    "- (controlled experiments) and regression is somehow more popular for correlational research (looking for relationships in real-world data). But they are calculated using the same R functions behind the scenes.\n",
    "- ANOVA produces an F-statistics or F-ratio for all comparisons. It is an omnibus test.\n",
    "- Just as the t-test can be represented by the linear regression equation (see previous lab), ANOVA can be represented by a multiple regression equation (in which the number of predictors is one less than the number of categories of the independent variable).\n",
    "- The F ratio can be used to assess difference between means and whether a regression model fits the data. Because assessing differences between group means can be seen as fitting a regression model taking into account said group means.\n",
    "- One-way ANOVA: you have a single independent variable with more than two levels (if you only had 2 levels, you would run a t-test…):\n",
    "  -\tExample:  studying the effectiveness of three types of pain reliever: aspirin, ibuprofen and gin\n",
    "- Two-way ANOVA: you have two or more independent variable (each with two or more conditions):\n",
    "  - Example:  studying pain relief based on pain reliever and type of pain\n",
    "    - Factor A: Pain reliever (aspirin versus ibuprofen)\n",
    "    - Factor B: type of pain (headache versus back pain)"
   ]
  },
  {
   "cell_type": "markdown",
   "metadata": {},
   "source": [
    "#### PS 1\n",
    "(Example adapted from A. Field, “Discovering statistics using R”, Sage, chapter 10, p. 400)\n",
    "\n",
    "The example compares the effect  -- measured in some meaningful scale -- of administering a sugar pill to a patient (placebo condition, dose code = 1), or a low dose of a drug (dose code = 2) or a high dose of the same drug (dose code = 3).\n",
    "\n",
    "Import the data to create a data frame using the following command:\n"
   ]
  },
  {
   "cell_type": "code",
   "execution_count": 66,
   "metadata": {
    "collapsed": false
   },
   "outputs": [],
   "source": [
    "data <- data.frame(person = c( 1, 2, 3, 4, 5, 6, 7, 8, 9, 10, 11, 12, 13, 14, 15), dose = c( 1, 1, 1, 1, 1, 2, 2, 2, 2, 2, 3, 3, 3, 3, 3), effect = c(3, 2, 1, 1, 4, 5, 2, 4, 2, 3, 7, 4, 5, 3, 6))"
   ]
  },
  {
   "cell_type": "markdown",
   "metadata": {},
   "source": [
    "Then you can use:"
   ]
  },
  {
   "cell_type": "code",
   "execution_count": 67,
   "metadata": {
    "collapsed": true
   },
   "outputs": [],
   "source": [
    "\n",
    "data$dose <- factor(data$dose, levels=c(1,2,3), labels = c(\"Placebo\", \"Low_dose\", \"High_dose\"))\n"
   ]
  },
  {
   "cell_type": "markdown",
   "metadata": {},
   "source": [
    "And now a sanity check or two:"
   ]
  },
  {
   "cell_type": "code",
   "execution_count": 68,
   "metadata": {
    "collapsed": false
   },
   "outputs": [
    {
     "data": {
      "text/plain": [
       "     person            dose       effect     \n",
       " Min.   : 1.0   Placebo  :5   Min.   :1.000  \n",
       " 1st Qu.: 4.5   Low_dose :5   1st Qu.:2.000  \n",
       " Median : 8.0   High_dose:5   Median :3.000  \n",
       " Mean   : 8.0                 Mean   :3.467  \n",
       " 3rd Qu.:11.5                 3rd Qu.:4.500  \n",
       " Max.   :15.0                 Max.   :7.000  "
      ]
     },
     "metadata": {},
     "output_type": "display_data"
    }
   ],
   "source": [
    "#View(data)\n",
    "\n",
    "summary(data)\n"
   ]
  },
  {
   "cell_type": "markdown",
   "metadata": {},
   "source": [
    "What do you think the factor() or gl() command did? Check the documentation for these function.\n",
    "\n",
    "    - The command takes the data from the “dose” column and transforms it into a factor with three levels (1, 2 and 3) and three corresponding text labels (placebo=1, low dose=2, high dose=3). Having human-readable names for the factor levels will help in the interpretation later on."
   ]
  },
  {
   "cell_type": "markdown",
   "metadata": {},
   "source": [
    "#### PS 2\n",
    "Using this command, calculate the mean effect for each group (placebo, low dose, high dose).\n",
    "\n"
   ]
  },
  {
   "cell_type": "code",
   "execution_count": 69,
   "metadata": {
    "collapsed": false
   },
   "outputs": [
    {
     "data": {
      "text/plain": [
       "data$dose: Placebo\n",
       "[1] 2.2\n",
       "------------------------------------------------------------ \n",
       "data$dose: Low_dose\n",
       "[1] 3.2\n",
       "------------------------------------------------------------ \n",
       "data$dose: High_dose\n",
       "[1] 5"
      ]
     },
     "metadata": {},
     "output_type": "display_data"
    }
   ],
   "source": [
    "by(data = data[, \"effect\"], INDICES = data$dose, FUN = mean)\n"
   ]
  },
  {
   "cell_type": "markdown",
   "metadata": {},
   "source": [
    "Then check the documentation of the by() function. What does by() do?\n",
    "If by() did not exist, how would you calculate the three means using three separate commands?\n",
    "\n",
    "    - The by() command applies the FUN function specified to the data. More specifically, before applying the function, it will group the data according to the levels present in the factor specified under INDICES. So this command takes the data from the “effect” column in the data data frame. It then groups it according to the dose factor (group 1, 2, and 3) and finally applies the mean() function to factor level 1 (placebo), then to level 2 (low dose), then to group 3 (high dose) and prints the results:\n"
   ]
  },
  {
   "cell_type": "code",
   "execution_count": 70,
   "metadata": {
    "collapsed": false
   },
   "outputs": [
    {
     "data": {
      "text/plain": [
       "data$dose: Placebo\n",
       "[1] 2.2\n",
       "------------------------------------------------------------ \n",
       "data$dose: Low_dose\n",
       "[1] 3.2\n",
       "------------------------------------------------------------ \n",
       "data$dose: High_dose\n",
       "[1] 5"
      ]
     },
     "metadata": {},
     "output_type": "display_data"
    }
   ],
   "source": [
    "means <- by(data = data[, \"effect\"], INDICES = data$dose, FUN = mean)\n",
    "means"
   ]
  },
  {
   "cell_type": "markdown",
   "metadata": {},
   "source": [
    "You can extract each individual value using the index of the value you require:"
   ]
  },
  {
   "cell_type": "code",
   "execution_count": 71,
   "metadata": {
    "collapsed": false
   },
   "outputs": [
    {
     "data": {
      "text/html": [
       "<strong>Low_dose:</strong> 3.2"
      ],
      "text/latex": [
       "\\textbf{Low\\textbackslash{}\\_dose:} 3.2"
      ],
      "text/markdown": [
       "**Low_dose:** 3.2"
      ],
      "text/plain": [
       "Low_dose \n",
       "     3.2 "
      ]
     },
     "metadata": {},
     "output_type": "display_data"
    }
   ],
   "source": [
    "means[2]"
   ]
  },
  {
   "cell_type": "markdown",
   "metadata": {},
   "source": [
    "Or its name:"
   ]
  },
  {
   "cell_type": "code",
   "execution_count": 72,
   "metadata": {
    "collapsed": false
   },
   "outputs": [
    {
     "data": {
      "text/html": [
       "<style>\n",
       ".list-inline {list-style: none; margin:0; padding: 0}\n",
       ".list-inline>li {display: inline-block}\n",
       ".list-inline>li:not(:last-child)::after {content: \"\\00b7\"; padding: 0 .5ex}\n",
       "</style>\n",
       "<ol class=list-inline><li>'Placebo'</li><li>'Low_dose'</li><li>'High_dose'</li></ol>\n"
      ],
      "text/latex": [
       "\\begin{enumerate*}\n",
       "\\item 'Placebo'\n",
       "\\item 'Low\\_dose'\n",
       "\\item 'High\\_dose'\n",
       "\\end{enumerate*}\n"
      ],
      "text/markdown": [
       "1. 'Placebo'\n",
       "2. 'Low_dose'\n",
       "3. 'High_dose'\n",
       "\n",
       "\n"
      ],
      "text/plain": [
       "[1] \"Placebo\"   \"Low_dose\"  \"High_dose\""
      ]
     },
     "metadata": {},
     "output_type": "display_data"
    }
   ],
   "source": [
    "names(means)"
   ]
  },
  {
   "cell_type": "code",
   "execution_count": 73,
   "metadata": {
    "collapsed": false
   },
   "outputs": [
    {
     "data": {
      "text/html": [
       "<strong>Low_dose:</strong> 3.2"
      ],
      "text/latex": [
       "\\textbf{Low\\textbackslash{}\\_dose:} 3.2"
      ],
      "text/markdown": [
       "**Low_dose:** 3.2"
      ],
      "text/plain": [
       "Low_dose \n",
       "     3.2 "
      ]
     },
     "metadata": {},
     "output_type": "display_data"
    }
   ],
   "source": [
    "means[\"Low_dose\"]"
   ]
  },
  {
   "cell_type": "markdown",
   "metadata": {},
   "source": [
    "The by() command is equivalent to the three separate commands:"
   ]
  },
  {
   "cell_type": "code",
   "execution_count": 74,
   "metadata": {
    "collapsed": true
   },
   "outputs": [],
   "source": [
    "placebo_mean <- mean(c(3,2,1,1,4)) # 2.2\n",
    "low_dose_mean <- mean(c(5,2,4,2,3)) # 3.2\n",
    "high_dose_mean <- mean(c(7,4,5,3,6)) # 5.0"
   ]
  },
  {
   "cell_type": "markdown",
   "metadata": {},
   "source": [
    "Do you know what the # character means here? It’s a code comment. It means anything following the # until the carriage return is human-readable text that should not be interpreted by the R language.\n"
   ]
  },
  {
   "cell_type": "markdown",
   "metadata": {},
   "source": [
    "The by() command is also equivalent to the commands:"
   ]
  },
  {
   "cell_type": "code",
   "execution_count": 75,
   "metadata": {
    "collapsed": true
   },
   "outputs": [],
   "source": [
    "placebo_mean <- mean(data[data$dose==\"Placebo\", \"effect\"])\n",
    "low_dose_mean <- mean(data[data$dose==\"Low_dose\", \"effect\"])\n",
    "high_dose_mean <- mean(data[data$dose==\"High_dose\", \"effect\"])"
   ]
  },
  {
   "cell_type": "markdown",
   "metadata": {},
   "source": [
    "#### PS 3\n",
    "To make sure you have understood how the by() function works, use by() to calculate the standard deviation for each group (placebo, low dose, high dose). \n",
    "You can also use by() to run the pastecs package function stat.desc() that will output a variety of statistics for each group."
   ]
  },
  {
   "cell_type": "code",
   "execution_count": 76,
   "metadata": {
    "collapsed": false
   },
   "outputs": [
    {
     "data": {
      "text/plain": [
       "data$dose: Placebo\n",
       "[1] 1.30384\n",
       "------------------------------------------------------------ \n",
       "data$dose: Low_dose\n",
       "[1] 1.30384\n",
       "------------------------------------------------------------ \n",
       "data$dose: High_dose\n",
       "[1] 1.581139"
      ]
     },
     "metadata": {},
     "output_type": "display_data"
    }
   ],
   "source": [
    "by(data = data[, \"effect\"], INDICES = data$dose, FUN = sd)"
   ]
  },
  {
   "cell_type": "code",
   "execution_count": 77,
   "metadata": {
    "collapsed": false
   },
   "outputs": [
    {
     "name": "stderr",
     "output_type": "stream",
     "text": [
      "Warning message:\n",
      "\"package 'pastecs' is in use and will not be installed\"\n"
     ]
    },
    {
     "data": {
      "text/plain": [
       "data$dose: Placebo\n",
       "     nbr.val     nbr.null       nbr.na          min          max        range \n",
       "   5.0000000    0.0000000    0.0000000    1.0000000    4.0000000    3.0000000 \n",
       "         sum       median         mean      SE.mean CI.mean.0.95          var \n",
       "  11.0000000    2.0000000    2.2000000    0.5830952    1.6189318    1.7000000 \n",
       "     std.dev     coef.var \n",
       "   1.3038405    0.5926548 \n",
       "------------------------------------------------------------ \n",
       "data$dose: Low_dose\n",
       "     nbr.val     nbr.null       nbr.na          min          max        range \n",
       "   5.0000000    0.0000000    0.0000000    2.0000000    5.0000000    3.0000000 \n",
       "         sum       median         mean      SE.mean CI.mean.0.95          var \n",
       "  16.0000000    3.0000000    3.2000000    0.5830952    1.6189318    1.7000000 \n",
       "     std.dev     coef.var \n",
       "   1.3038405    0.4074502 \n",
       "------------------------------------------------------------ \n",
       "data$dose: High_dose\n",
       "     nbr.val     nbr.null       nbr.na          min          max        range \n",
       "   5.0000000    0.0000000    0.0000000    3.0000000    7.0000000    4.0000000 \n",
       "         sum       median         mean      SE.mean CI.mean.0.95          var \n",
       "  25.0000000    5.0000000    5.0000000    0.7071068    1.9632432    2.5000000 \n",
       "     std.dev     coef.var \n",
       "   1.5811388    0.3162278 "
      ]
     },
     "metadata": {},
     "output_type": "display_data"
    }
   ],
   "source": [
    "install.packages(\"pastecs\")\n",
    "library(pastecs)\n",
    "by(data = data[, \"effect\"], INDICES = data$dose, FUN = stat.desc)\n"
   ]
  },
  {
   "cell_type": "markdown",
   "metadata": {},
   "source": [
    "#### PS 9\n",
    "In order to run the linear regression, we need to tell R about our dummy coding.\n",
    "Add to your data frame the values for the dummy_low and dummy_high variables using the following commands:"
   ]
  },
  {
   "cell_type": "code",
   "execution_count": 78,
   "metadata": {
    "collapsed": false
   },
   "outputs": [
    {
     "name": "stdout",
     "output_type": "stream",
     "text": [
      "   person      dose effect dummy_low dummy_high\n",
      "1       1   Placebo      3         0          0\n",
      "2       2   Placebo      2         0          0\n",
      "3       3   Placebo      1         0          0\n",
      "4       4   Placebo      1         0          0\n",
      "5       5   Placebo      4         0          0\n",
      "6       6  Low_dose      5         1          0\n",
      "7       7  Low_dose      2         1          0\n",
      "8       8  Low_dose      4         1          0\n",
      "9       9  Low_dose      2         1          0\n",
      "10     10  Low_dose      3         1          0\n",
      "11     11 High_dose      7         0          1\n",
      "12     12 High_dose      4         0          1\n",
      "13     13 High_dose      5         0          1\n",
      "14     14 High_dose      3         0          1\n",
      "15     15 High_dose      6         0          1\n"
     ]
    }
   ],
   "source": [
    "data$dummy_low <- c(0,0,0,0,0,1,1,1,1,1,0,0,0,0,0)\n",
    "data$dummy_high <- c(0,0,0,0,0,0,0,0,0,0,1,1,1,1,1)\n",
    "print(data)"
   ]
  },
  {
   "cell_type": "markdown",
   "metadata": {},
   "source": [
    "#### PS 10\n",
    "Now run an appropriate lm() command to predict the effect from the dummy_low and dummy_high variables. Call the resulting model drug_lm.\n",
    "What do the coefficient values represent? You can find the coefficients under the “Estimate” column in the summary(drug_lm).\n",
    "\n",
    "Tip: to answer, examine the means you calculated above and consider the other exercises you did to glean the meaning of the intercept and slopes in the model.\n",
    "\n",
    "You may have to run:"
   ]
  },
  {
   "cell_type": "code",
   "execution_count": 79,
   "metadata": {
    "collapsed": false
   },
   "outputs": [
    {
     "name": "stderr",
     "output_type": "stream",
     "text": [
      "The following objects are masked from data (pos = 6):\n",
      "\n",
      "    dose, dummy_high, dummy_low, effect, person\n",
      "\n",
      "\n"
     ]
    }
   ],
   "source": [
    "attach(data)"
   ]
  },
  {
   "cell_type": "markdown",
   "metadata": {},
   "source": [
    "Generate the linear model:"
   ]
  },
  {
   "cell_type": "code",
   "execution_count": 80,
   "metadata": {
    "collapsed": false
   },
   "outputs": [
    {
     "data": {
      "text/plain": [
       "\n",
       "Call:\n",
       "lm(formula = effect ~ dummy_low + dummy_high, data = data)\n",
       "\n",
       "Residuals:\n",
       "   Min     1Q Median     3Q    Max \n",
       "  -2.0   -1.2   -0.2    0.9    2.0 \n",
       "\n",
       "Coefficients:\n",
       "            Estimate Std. Error t value Pr(>|t|)   \n",
       "(Intercept)   2.2000     0.6272   3.508  0.00432 **\n",
       "dummy_low     1.0000     0.8869   1.127  0.28158   \n",
       "dummy_high    2.8000     0.8869   3.157  0.00827 **\n",
       "---\n",
       "Signif. codes:  0 '***' 0.001 '**' 0.01 '*' 0.05 '.' 0.1 ' ' 1\n",
       "\n",
       "Residual standard error: 1.402 on 12 degrees of freedom\n",
       "Multiple R-squared:  0.4604,\tAdjusted R-squared:  0.3704 \n",
       "F-statistic: 5.119 on 2 and 12 DF,  p-value: 0.02469\n"
      ]
     },
     "metadata": {},
     "output_type": "display_data"
    }
   ],
   "source": [
    "drug_lm <- lm(formula = effect ~ dummy_low + dummy_high , data = data)\n",
    "summary(drug_lm)"
   ]
  },
  {
   "cell_type": "markdown",
   "metadata": {},
   "source": [
    "\n",
    "The intercept (2.2) represents the mean effect for the placebo group. \n",
    "\n",
    "Dummy_low = b1, represents the difference between the low-dose mean effect and the placebo mean effect: Placebo mean effect + b1 = 2.2 + 1 = 3.2 = low-dose mean effect.\n",
    "\n",
    "Dummy_high = b2, represents the difference between the high-dose mean effect and the placebo mean effect: Placebo mean effect + b2 = 2.2 + 2.8 = 5.0 = high-dose mean effect.\n"
   ]
  },
  {
   "cell_type": "markdown",
   "metadata": {},
   "source": [
    "#### PS 11\n",
    "Continue to use the problem set model. Interpret the significance of the model coefficients using their p values. Use a significance threshold of .05.\n",
    "What does it mean in practical terms?\n",
    "\n",
    "```\n",
    "Coefficients:\n",
    "            Estimate Std. Error t value Pr(>|t|)   \n",
    "(Intercept)   2.2000     0.6272   3.508  0.00432 **\n",
    "dummy_low     1.0000     0.8869   1.127  0.28158   \n",
    "dummy_high    2.8000     0.8869   3.157  0.00827 **\n",
    "```\n",
    "\n",
    "dummy_low is not significant (p value > .05) so the difference between the placebo group and the low dose group is not significant.\n",
    "However, dummy_high is significant (p value < .05) so the difference between the placebo group and the high dose group is indeed significant.\n",
    "\n",
    "\n",
    "#### PS 12\n",
    "Observe the diagram. What do the following elements represent?\n",
    "\tThe long black line at about 3.5 effect units \n",
    "\tThe small circles, triangles and squares \n",
    "\tThe light blue, medium blue and dark blue short horizontal lines \n",
    "\tThe small thick double-headed arrow\n",
    "\tThe big, thick double-headed arrow\n",
    "\n",
    "\n",
    "\t- The long black line at about 3.5 effect units: is the grand mean (the overall mean of all effects for all 15 participants). It is the simplest model that we can fit to the data.\n",
    "\t- The small circles, triangles and squares: represent individual data points, individual participant effects for placebo (circles), low dose (triangles) and high dose (squares)\n",
    "\t- The light blue, medium blue and dark blue short horizontal lines: are the placebo effect mean, the low-dose mean and the high-dose mean\n",
    "\t- The small thick double-headed arrow: is b1, the difference between the placebo group mean effect and the low-dose mean effect\n",
    "\t- The big, thick double-headed arrow: is b2, the difference between the placebo group mean effect and the high-dose mean effect\n",
    "\n",
    "So in correlational research, the regression coefficients represent the slope of the line, but in experimental research, they represent the differences between group means.\n",
    "\n"
   ]
  },
  {
   "cell_type": "markdown",
   "metadata": {},
   "source": [
    "Let’s work on the sum of squares, to evaluate our model. \n",
    "\n",
    "All sum of squares follow the same basic pattern: deviation=∑▒〖(observed-model)〗^2 \n",
    "What changes between total sum of squares, residual (or error) sum of squares and model sum of squares is which data and which model is used to calculate the basic equation above.\n",
    "\n",
    "The simplest model that we can fit to the data is the grand mean. \n",
    "In other words, in the absence of other ideas, we can use the overall mean as prediction of what would be the value of the independent variable for a new data point.\n",
    "Obviously, if a model is good, it should be better than the grand mean, that is, it should be closer to the data points (have smaller overall deviation and smaller residuals).\n",
    "\n",
    "We can compare the improvement in fit due to using our model (rather than the grand mean) to the error that still remains, since our model won’t usually be perfect.\n",
    "Another way of saying this is that when the grand mean is used as a model, there will be a certain amount of variation between the data and the grand mean. When a model is fitted it will explain some of this variation, but some will be left unexplained. \n",
    "\n",
    "The F ratio is the ratio of the explained to unexplained variation.\n",
    "Look at the figure below (Figure 10.3 from the Field book) and name each sum of squares (put the name in the red rounded boxes).\n"
   ]
  },
  {
   "cell_type": "markdown",
   "metadata": {},
   "source": [
    "Calculate the Total Sum of Squares for the drug data:"
   ]
  },
  {
   "cell_type": "code",
   "execution_count": 81,
   "metadata": {
    "collapsed": false
   },
   "outputs": [
    {
     "data": {
      "text/html": [
       "43.7333333333333"
      ],
      "text/latex": [
       "43.7333333333333"
      ],
      "text/markdown": [
       "43.7333333333333"
      ],
      "text/plain": [
       "[1] 43.73333"
      ]
     },
     "metadata": {},
     "output_type": "display_data"
    }
   ],
   "source": [
    "SS_tot <- sum((data$effect - mean(data$effect))^2)\n",
    "SS_tot\n"
   ]
  },
  {
   "cell_type": "code",
   "execution_count": 82,
   "metadata": {
    "collapsed": false
   },
   "outputs": [
    {
     "data": {
      "text/html": [
       "43.7333333333333"
      ],
      "text/latex": [
       "43.7333333333333"
      ],
      "text/markdown": [
       "43.7333333333333"
      ],
      "text/plain": [
       "[1] 43.73333"
      ]
     },
     "metadata": {},
     "output_type": "display_data"
    }
   ],
   "source": [
    "SS_tot <- var(data$effect)*(length(data$effect)-1)\n",
    "SS_tot\n"
   ]
  },
  {
   "cell_type": "markdown",
   "metadata": {},
   "source": [
    "Now calculate the Model Sum of Squares:"
   ]
  },
  {
   "cell_type": "markdown",
   "metadata": {},
   "source": [
    "Calculate the grand mean of all data, regardless of treatment:"
   ]
  },
  {
   "cell_type": "code",
   "execution_count": 83,
   "metadata": {
    "collapsed": false
   },
   "outputs": [
    {
     "name": "stdout",
     "output_type": "stream",
     "text": [
      "[1] 3.466667\n"
     ]
    }
   ],
   "source": [
    "grand_mean <- mean(data$effect)\n",
    "print(grand_mean)"
   ]
  },
  {
   "cell_type": "markdown",
   "metadata": {},
   "source": [
    "Get the data by treatment:"
   ]
  },
  {
   "cell_type": "code",
   "execution_count": 84,
   "metadata": {
    "collapsed": true
   },
   "outputs": [],
   "source": [
    "pl <- data[data$dose == \"Placebo\", \"effect\"]\n",
    "low <- data[data$dose == \"Low_dose\", \"effect\"]\n",
    "high <- data[data$dose == \"High_dose\", \"effect\"]"
   ]
  },
  {
   "cell_type": "markdown",
   "metadata": {},
   "source": [
    "Calculate the sum of squares (one squared value for each treatment):"
   ]
  },
  {
   "cell_type": "code",
   "execution_count": 85,
   "metadata": {
    "collapsed": false
   },
   "outputs": [
    {
     "data": {
      "text/html": [
       "20.1333333333333"
      ],
      "text/latex": [
       "20.1333333333333"
      ],
      "text/markdown": [
       "20.1333333333333"
      ],
      "text/plain": [
       "[1] 20.13333"
      ]
     },
     "metadata": {},
     "output_type": "display_data"
    }
   ],
   "source": [
    "SS_model <- sum(length(pl)*((mean(pl)-grand_mean))^2, length(low)*((mean(low)-grand_mean))^2, length(high)*((mean(high)-grand_mean))^2)\n",
    "SS_model"
   ]
  },
  {
   "cell_type": "markdown",
   "metadata": {},
   "source": [
    "We saw that there are about 43 units of variation, he model accounts for 20 units of variation, so about half.\n",
    "\n"
   ]
  },
  {
   "cell_type": "markdown",
   "metadata": {},
   "source": [
    "Now calculate the Residuals Sum of Squares."
   ]
  },
  {
   "cell_type": "code",
   "execution_count": 86,
   "metadata": {
    "collapsed": false
   },
   "outputs": [
    {
     "data": {
      "text/html": [
       "23.6"
      ],
      "text/latex": [
       "23.6"
      ],
      "text/markdown": [
       "23.6"
      ],
      "text/plain": [
       "[1] 23.6"
      ]
     },
     "metadata": {},
     "output_type": "display_data"
    }
   ],
   "source": [
    "pl <- data[data$dose == \"Placebo\", \"effect\"]\n",
    "low <- data[data$dose == \"Low_dose\", \"effect\"]\n",
    "high <- data[data$dose == \"High_dose\", \"effect\"]\n",
    "\n",
    "SS_residual <- sum((pl-mean(pl))^2, (low-mean(low))^2, (high-mean(high))^2)\n",
    "\n",
    "SS_residual\n"
   ]
  },
  {
   "cell_type": "markdown",
   "metadata": {},
   "source": [
    "Let’s plan an ANOVA analysis. The steps are, roughly:\n",
    "- Enter the data (done)\n",
    "- Compute Levene’s test to check for homogeneity of variance\n",
    "- Compute the basic ANOVA (or linear model)\n",
    "- Compute contrasts to see which group differences are significant (advanced topic, not covered in this lab)\n",
    "- Compute post-hoc tests (advanced topic, not covered in this lab)\n"
   ]
  },
  {
   "cell_type": "code",
   "execution_count": 87,
   "metadata": {
    "collapsed": false
   },
   "outputs": [
    {
     "data": {
      "text/html": [
       "<table>\n",
       "<caption>A anova: 2 × 3</caption>\n",
       "<thead>\n",
       "\t<tr><th></th><th scope=col>Df</th><th scope=col>F value</th><th scope=col>Pr(&gt;F)</th></tr>\n",
       "\t<tr><th></th><th scope=col>&lt;int&gt;</th><th scope=col>&lt;dbl&gt;</th><th scope=col>&lt;dbl&gt;</th></tr>\n",
       "</thead>\n",
       "<tbody>\n",
       "\t<tr><th scope=row>group</th><td> 2</td><td>0.1176471</td><td>0.8900225</td></tr>\n",
       "\t<tr><th scope=row> </th><td>12</td><td>       NA</td><td>       NA</td></tr>\n",
       "</tbody>\n",
       "</table>\n"
      ],
      "text/latex": [
       "A anova: 2 × 3\n",
       "\\begin{tabular}{r|lll}\n",
       "  & Df & F value & Pr(>F)\\\\\n",
       "  & <int> & <dbl> & <dbl>\\\\\n",
       "\\hline\n",
       "\tgroup &  2 & 0.1176471 & 0.8900225\\\\\n",
       "\t  & 12 &        NA &        NA\\\\\n",
       "\\end{tabular}\n"
      ],
      "text/markdown": [
       "\n",
       "A anova: 2 × 3\n",
       "\n",
       "| <!--/--> | Df &lt;int&gt; | F value &lt;dbl&gt; | Pr(&gt;F) &lt;dbl&gt; |\n",
       "|---|---|---|---|\n",
       "| group |  2 | 0.1176471 | 0.8900225 |\n",
       "| <!----> | 12 |        NA |        NA |\n",
       "\n"
      ],
      "text/plain": [
       "      Df F value   Pr(>F)   \n",
       "group  2 0.1176471 0.8900225\n",
       "      12        NA        NA"
      ]
     },
     "metadata": {},
     "output_type": "display_data"
    }
   ],
   "source": [
    "library(car)\n",
    "leveneTest(y = data$effect, group = data$dose, center = median)"
   ]
  },
  {
   "cell_type": "markdown",
   "metadata": {},
   "source": [
    "The Levene test is not significant (p value .89 >> .05), so we can proceed with our ANOVA (or linear model) analysis:"
   ]
  },
  {
   "cell_type": "markdown",
   "metadata": {},
   "source": [
    "Before we create an ANOVA model, create a linear model using effect ~ dose as formula and examine the output. "
   ]
  },
  {
   "cell_type": "code",
   "execution_count": 88,
   "metadata": {
    "collapsed": false
   },
   "outputs": [
    {
     "data": {
      "text/plain": [
       "\n",
       "Call:\n",
       "lm(formula = effect ~ dose, data = data)\n",
       "\n",
       "Residuals:\n",
       "   Min     1Q Median     3Q    Max \n",
       "  -2.0   -1.2   -0.2    0.9    2.0 \n",
       "\n",
       "Coefficients:\n",
       "              Estimate Std. Error t value Pr(>|t|)   \n",
       "(Intercept)     2.2000     0.6272   3.508  0.00432 **\n",
       "doseLow_dose    1.0000     0.8869   1.127  0.28158   \n",
       "doseHigh_dose   2.8000     0.8869   3.157  0.00827 **\n",
       "---\n",
       "Signif. codes:  0 '***' 0.001 '**' 0.01 '*' 0.05 '.' 0.1 ' ' 1\n",
       "\n",
       "Residual standard error: 1.402 on 12 degrees of freedom\n",
       "Multiple R-squared:  0.4604,\tAdjusted R-squared:  0.3704 \n",
       "F-statistic: 5.119 on 2 and 12 DF,  p-value: 0.02469\n"
      ]
     },
     "metadata": {},
     "output_type": "display_data"
    }
   ],
   "source": [
    "drug_lm_2 <- lm(formula = effect ~ dose, data = data)\n",
    "summary(drug_lm_2)\n"
   ]
  },
  {
   "cell_type": "markdown",
   "metadata": {},
   "source": [
    "Create an ANOVA model with the same data and formula as the linear model."
   ]
  },
  {
   "cell_type": "code",
   "execution_count": 89,
   "metadata": {
    "collapsed": false
   },
   "outputs": [
    {
     "data": {
      "text/plain": [
       "Call:\n",
       "   aov(formula = effect ~ dose, data = data)\n",
       "\n",
       "Terms:\n",
       "                    dose Residuals\n",
       "Sum of Squares  20.13333  23.60000\n",
       "Deg. of Freedom        2        12\n",
       "\n",
       "Residual standard error: 1.402379\n",
       "Estimated effects may be unbalanced"
      ]
     },
     "metadata": {},
     "output_type": "display_data"
    },
    {
     "data": {
      "text/plain": [
       "            Df Sum Sq Mean Sq F value Pr(>F)  \n",
       "dose         2  20.13  10.067   5.119 0.0247 *\n",
       "Residuals   12  23.60   1.967                 \n",
       "---\n",
       "Signif. codes:  0 '***' 0.001 '**' 0.01 '*' 0.05 '.' 0.1 ' ' 1"
      ]
     },
     "metadata": {},
     "output_type": "display_data"
    }
   ],
   "source": [
    "drug_anova <- aov(formula = effect ~ dose, data = data)\n",
    "\n",
    "drug_anova\n",
    "\n",
    "summary(drug_anova)\n",
    "\n"
   ]
  },
  {
   "cell_type": "markdown",
   "metadata": {},
   "source": [
    "Material adapted from: \n",
    "\n",
    "•Discovering statistics using R. Authors: A. Field, J. Miles, Z. Field. Publisher: Sage, 2012\n",
    "\n",
    "•The R book (second edition). Authors: Michael J. Crawley. Publisher: Wiley, 2013\n",
    "\n",
    "•Research methods and statistics 2, Tom Booths and Alex Doumas 2018.\n"
   ]
  },
  {
   "cell_type": "code",
   "execution_count": null,
   "metadata": {
    "collapsed": true
   },
   "outputs": [],
   "source": []
  }
 ],
 "metadata": {
  "anaconda-cloud": {},
  "kernelspec": {
   "display_name": "R",
   "language": "R",
   "name": "ir"
  },
  "language_info": {
   "codemirror_mode": "r",
   "file_extension": ".r",
   "mimetype": "text/x-r-source",
   "name": "R",
   "pygments_lexer": "r",
   "version": "4.0.0"
  }
 },
 "nbformat": 4,
 "nbformat_minor": 0
}
