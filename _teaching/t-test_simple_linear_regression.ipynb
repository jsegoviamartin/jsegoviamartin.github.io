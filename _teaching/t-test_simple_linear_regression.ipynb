{
 "cells": [
  {
   "cell_type": "markdown",
   "metadata": {},
   "source": [
    "## Lab 1: T-test and simple linear regression"
   ]
  },
  {
   "cell_type": "markdown",
   "metadata": {},
   "source": [
    "#### PS1\n",
    "The t-test is any statistical hypothesis test in which the test statistic follows a Student's t-distribution under the null hypothesis.\n",
    "\n",
    "- A t-test is used to decide whether two sample means are significantly different\n",
    "- Observed = observed difference between sample means\n",
    "- Expected = expected difference by chance between population means, if the null hypothesis is true (null hypothesis = all the data comes from the same population)\n",
    "- Error = estimate of the standard error of the difference between two sample means\n",
    "- The t-test is a general linear model. Yep. Just like linear regression.\n",
    "\n",
    "A t-test is the most commonly applied when the test statistic would follow a normal distribution if the value of a scaling term in the test statistic were known. When the scaling term is unknown and is replaced by an estimate based on the data, the test statistics (under certain conditions) follow a Student's t distribution. The t-test can be used, for example, to determine if the means of two sets of data are significantly different from each other.\n",
    "\n"
   ]
  },
  {
   "cell_type": "markdown",
   "metadata": {},
   "source": [
    "Calculate the mean anxiety for the picture group using R. \n",
    "By hand, plug the mean anxiety value for the picture group into the line equation.  \n",
    "Tip: ignore the error term, and remember that the picture group was given the group number zero. \n",
    "What is the intercept value for the line? (b0) \n",
    "What does the intercept represent, in term of the group data? "
   ]
  },
  {
   "cell_type": "markdown",
   "metadata": {},
   "source": [
    "Create the dataframe using the following command:"
   ]
  },
  {
   "cell_type": "code",
   "execution_count": 1,
   "metadata": {
    "collapsed": true
   },
   "outputs": [],
   "source": [
    "Group <- gl(2, 12, labels = c(\"Picture\", \"Real Spider\"))\n",
    "Anxiety <- c(30, 35, 45, 40, 50, 35, 55, 25, 30, 45, 40, 50, 40, 35, 50, 55, 65, 55, 50, 35, 30, 50, 60, 39 )\n",
    "spiderLong <- data.frame(Group, Anxiety)"
   ]
  },
  {
   "cell_type": "markdown",
   "metadata": {},
   "source": [
    "Calculate the mean using the group name (“Picture”) to select the picture data, and the data frame column number (2nd column) to select the anxiety column: "
   ]
  },
  {
   "cell_type": "code",
   "execution_count": 2,
   "metadata": {
    "collapsed": false
   },
   "outputs": [
    {
     "data": {
      "text/html": [
       "40"
      ],
      "text/latex": [
       "40"
      ],
      "text/markdown": [
       "40"
      ],
      "text/plain": [
       "[1] 40"
      ]
     },
     "metadata": {},
     "output_type": "display_data"
    }
   ],
   "source": [
    "meanPicture <- mean(spiderLong[Group==\"Picture\", 2])\n",
    "meanPicture"
   ]
  },
  {
   "cell_type": "markdown",
   "metadata": {},
   "source": [
    "Or using the dataframe column name (“Anxiety”):"
   ]
  },
  {
   "cell_type": "code",
   "execution_count": 3,
   "metadata": {
    "collapsed": false
   },
   "outputs": [
    {
     "data": {
      "text/html": [
       "40"
      ],
      "text/latex": [
       "40"
      ],
      "text/markdown": [
       "40"
      ],
      "text/plain": [
       "[1] 40"
      ]
     },
     "metadata": {},
     "output_type": "display_data"
    }
   ],
   "source": [
    "meanPicture <- mean(spiderLong[Group==\"Picture\", \"Anxiety\"])\n",
    "meanPicture"
   ]
  },
  {
   "cell_type": "markdown",
   "metadata": {},
   "source": [
    "Complete the line equation for the picture group, using group number zero and the mean anxiety value for the picture group: \n",
    "\n",
    "𝑎𝑛𝑥𝑖𝑒𝑡𝑦0 = 𝑏0 + 𝑏10 \n",
    "\n",
    "𝑎𝑛𝑥𝑖𝑒𝑡𝑦0 = 𝑚𝑒𝑎𝑛 𝑎𝑛𝑥𝑖𝑒𝑡𝑦 𝑓𝑜𝑟 𝑡ℎ𝑒 𝑝𝑖𝑐𝑡𝑢𝑟𝑒 𝑔𝑟𝑜𝑢𝑝 = 𝑏0 + 0 \n",
    "\n",
    "𝑀𝑒𝑎𝑛 𝑎𝑛𝑥𝑖𝑒𝑡𝑦 𝑓𝑜𝑟 𝑡ℎ𝑒 𝑝𝑖𝑐𝑡𝑢𝑟𝑒 𝑔𝑟𝑜𝑢𝑝 = 𝑏0\n",
    "\n",
    "𝑏0 = 40 \n",
    "\n",
    "b0, the intercept, represents the average of the picture-only group."
   ]
  },
  {
   "cell_type": "markdown",
   "metadata": {},
   "source": [
    "Now calculate the mean anxiety for the real spider group using R. \n",
    "By hand, plug the mean anxiety value for the real-spider group into the line equation.  \n",
    "Tip: ignore the error term, and remember that the real-spider group was given the group number one. \n",
    "What is the slope of the line? (b1) \n",
    "What does it represent in terms of the two conditions? \n",
    "Calculate the mean of the real-spider data: "
   ]
  },
  {
   "cell_type": "code",
   "execution_count": 4,
   "metadata": {
    "collapsed": false
   },
   "outputs": [
    {
     "data": {
      "text/html": [
       "47"
      ],
      "text/latex": [
       "47"
      ],
      "text/markdown": [
       "47"
      ],
      "text/plain": [
       "[1] 47"
      ]
     },
     "metadata": {},
     "output_type": "display_data"
    }
   ],
   "source": [
    "meanRealSpider <- mean(spiderLong[Group==\"Real Spider\", \"Anxiety\"])\n",
    "meanRealSpider"
   ]
  },
  {
   "cell_type": "markdown",
   "metadata": {},
   "source": [
    "𝑎𝑛𝑥𝑖𝑒𝑡𝑦1 = 𝑏0 + 𝑏11 \n",
    "\n",
    "𝑎𝑛𝑥𝑖𝑒𝑡𝑦1 = 𝑚𝑒𝑎𝑛 𝑎𝑛𝑥𝑖𝑒𝑡𝑦 𝑓𝑜𝑟 𝑡ℎ𝑒 𝑟𝑒𝑎𝑙𝑠𝑝𝑖𝑑𝑒𝑟 𝑔𝑟𝑜𝑢𝑝 = 40 + 𝑏11 \n",
    "\n",
    "𝑀𝑒𝑎𝑛 𝑎𝑛𝑥𝑖𝑒𝑡𝑦 𝑓𝑜𝑟 𝑡ℎ𝑒 𝑟𝑒𝑎𝑙𝑠𝑝𝑖𝑑𝑒𝑟 𝑔𝑟𝑜𝑢𝑝 = 𝑚𝑒𝑎𝑛 𝑎𝑛𝑥𝑖𝑒𝑡𝑦 𝑓𝑜𝑟 𝑡ℎ𝑒 𝑝𝑖𝑐𝑡𝑢𝑟𝑒 𝑔𝑟𝑜𝑢𝑝 + 𝑏1 \n",
    "\n",
    "47 = 40 + 𝑏1 \n",
    "\n",
    "𝑏1 = 47 − 40 = 7 \n",
    "\n",
    "𝑏1 = 𝑚𝑒𝑎𝑛 𝑟𝑒𝑎𝑙𝑠𝑝𝑖𝑑𝑒𝑟 − 𝑚𝑒𝑎𝑛 𝑝𝑖𝑐𝑡𝑢𝑟𝑒 = 7 \n",
    "\n",
    "b1, the slope, represents the difference between the real-spider group mean and the baseline (the picture-only group) mean. "
   ]
  },
  {
   "cell_type": "markdown",
   "metadata": {},
   "source": [
    "Write, by hand, the full equation for the anxiety model, including the b coefficients."
   ]
  },
  {
   "cell_type": "markdown",
   "metadata": {},
   "source": [
    "𝑎𝑛𝑥𝑖𝑒𝑡𝑦𝑖 = 𝑏0 + 𝑏1𝑔𝑟𝑜𝑢𝑝𝑖 \n",
    "\n",
    "𝑎𝑛𝑥𝑖𝑒𝑡𝑦𝑖 = 40 + 7𝑔𝑟𝑜𝑢𝑝𝑖"
   ]
  },
  {
   "cell_type": "markdown",
   "metadata": {},
   "source": [
    "Run a linear regression model over the data, using anxiety as the dependent variable, and the group as the independent variable. "
   ]
  },
  {
   "cell_type": "code",
   "execution_count": 5,
   "metadata": {
    "collapsed": false
   },
   "outputs": [
    {
     "data": {
      "text/plain": [
       "\n",
       "Call:\n",
       "lm(formula = spiderLong$Anxiety ~ spiderLong$Group)\n",
       "\n",
       "Coefficients:\n",
       "                (Intercept)  spiderLong$GroupReal Spider  \n",
       "                         40                            7  \n"
      ]
     },
     "metadata": {},
     "output_type": "display_data"
    }
   ],
   "source": [
    "spider_lm <- lm(spiderLong$Anxiety ~ spiderLong$Group)\n",
    "spider_lm"
   ]
  },
  {
   "cell_type": "markdown",
   "metadata": {},
   "source": [
    "Examine the model:"
   ]
  },
  {
   "cell_type": "code",
   "execution_count": 6,
   "metadata": {
    "collapsed": false
   },
   "outputs": [
    {
     "data": {
      "text/plain": [
       "\n",
       "Call:\n",
       "lm(formula = spiderLong$Anxiety ~ spiderLong$Group)\n",
       "\n",
       "Residuals:\n",
       "   Min     1Q Median     3Q    Max \n",
       " -17.0   -8.5    1.5    8.0   18.0 \n",
       "\n",
       "Coefficients:\n",
       "                            Estimate Std. Error t value Pr(>|t|)    \n",
       "(Intercept)                   40.000      2.944  13.587 3.53e-12 ***\n",
       "spiderLong$GroupReal Spider    7.000      4.163   1.681    0.107    \n",
       "---\n",
       "Signif. codes:  0 '***' 0.001 '**' 0.01 '*' 0.05 '.' 0.1 ' ' 1\n",
       "\n",
       "Residual standard error: 10.2 on 22 degrees of freedom\n",
       "Multiple R-squared:  0.1139,\tAdjusted R-squared:  0.07359 \n",
       "F-statistic: 2.827 on 1 and 22 DF,  p-value: 0.1068\n"
      ]
     },
     "metadata": {},
     "output_type": "display_data"
    }
   ],
   "source": [
    "summary(spider_lm)"
   ]
  },
  {
   "cell_type": "markdown",
   "metadata": {},
   "source": [
    "Is the difference in anxiety significant between the picture-only and the real-spider groups? \n",
    "\n",
    "      - No, the difference between groups is not significant if we set an alpha of 5%. The P value for the slope (spiderLong$GroupReal Spider) has a P value > 0.05.  \n",
    "      - Note: you must decide your significance threshold before collecting your data. "
   ]
  },
  {
   "cell_type": "markdown",
   "metadata": {},
   "source": [
    "Now run an independent t-test over the data, like your learnt in RMS1 lab 14 (revise it if needed). Examine and interpret the output. \n",
    "You can write the function input comparing a list x versus a list y: "
   ]
  },
  {
   "cell_type": "code",
   "execution_count": 7,
   "metadata": {
    "collapsed": false
   },
   "outputs": [
    {
     "data": {
      "text/plain": [
       "\n",
       "\tTwo Sample t-test\n",
       "\n",
       "data:  Anxiety by Group\n",
       "t = -1.6813, df = 22, p-value = 0.1068\n",
       "alternative hypothesis: true difference in means is not equal to 0\n",
       "95 percent confidence interval:\n",
       " -15.634222   1.634222\n",
       "sample estimates:\n",
       "    mean in group Picture mean in group Real Spider \n",
       "                       40                        47 \n"
      ]
     },
     "metadata": {},
     "output_type": "display_data"
    }
   ],
   "source": [
    "t.test(Anxiety ~ Group, data = spiderLong, paired = FALSE, var.equal = TRUE, conf.level = 0.95)"
   ]
  },
  {
   "cell_type": "markdown",
   "metadata": {},
   "source": [
    "#### PS2\n",
    "\n",
    "Simple linear regression: A simple linear regression is a linear regression model with a single explanatory variable.\n",
    "\n",
    "[From M. Crawley, “The R book” (second edition) Wiley p. 450] \n",
    "This example exercise uses data about the growth of caterpillars fed on experimental diets containing increasing quantities of tannin. \n",
    "\n",
    "Create a dataframe using the command:"
   ]
  },
  {
   "cell_type": "code",
   "execution_count": 8,
   "metadata": {
    "collapsed": true
   },
   "outputs": [],
   "source": [
    "reg.data <- data.frame(growth=c(12,10,8,11,6,7,2,3,3), \n",
    "tannin=c(0,1,2,3,4,5,6,7,8)) "
   ]
  },
  {
   "cell_type": "markdown",
   "metadata": {},
   "source": [
    "Plot a scatterplot:"
   ]
  },
  {
   "cell_type": "code",
   "execution_count": 9,
   "metadata": {
    "collapsed": false
   },
   "outputs": [
    {
     "data": {
      "text/html": [
       "<table>\n",
       "<caption>A data.frame: 9 × 2</caption>\n",
       "<thead>\n",
       "\t<tr><th scope=col>growth</th><th scope=col>tannin</th></tr>\n",
       "\t<tr><th scope=col>&lt;dbl&gt;</th><th scope=col>&lt;dbl&gt;</th></tr>\n",
       "</thead>\n",
       "<tbody>\n",
       "\t<tr><td>12</td><td>0</td></tr>\n",
       "\t<tr><td>10</td><td>1</td></tr>\n",
       "\t<tr><td> 8</td><td>2</td></tr>\n",
       "\t<tr><td>11</td><td>3</td></tr>\n",
       "\t<tr><td> 6</td><td>4</td></tr>\n",
       "\t<tr><td> 7</td><td>5</td></tr>\n",
       "\t<tr><td> 2</td><td>6</td></tr>\n",
       "\t<tr><td> 3</td><td>7</td></tr>\n",
       "\t<tr><td> 3</td><td>8</td></tr>\n",
       "</tbody>\n",
       "</table>\n"
      ],
      "text/latex": [
       "A data.frame: 9 × 2\n",
       "\\begin{tabular}{ll}\n",
       " growth & tannin\\\\\n",
       " <dbl> & <dbl>\\\\\n",
       "\\hline\n",
       "\t 12 & 0\\\\\n",
       "\t 10 & 1\\\\\n",
       "\t  8 & 2\\\\\n",
       "\t 11 & 3\\\\\n",
       "\t  6 & 4\\\\\n",
       "\t  7 & 5\\\\\n",
       "\t  2 & 6\\\\\n",
       "\t  3 & 7\\\\\n",
       "\t  3 & 8\\\\\n",
       "\\end{tabular}\n"
      ],
      "text/markdown": [
       "\n",
       "A data.frame: 9 × 2\n",
       "\n",
       "| growth &lt;dbl&gt; | tannin &lt;dbl&gt; |\n",
       "|---|---|\n",
       "| 12 | 0 |\n",
       "| 10 | 1 |\n",
       "|  8 | 2 |\n",
       "| 11 | 3 |\n",
       "|  6 | 4 |\n",
       "|  7 | 5 |\n",
       "|  2 | 6 |\n",
       "|  3 | 7 |\n",
       "|  3 | 8 |\n",
       "\n"
      ],
      "text/plain": [
       "  growth tannin\n",
       "1 12     0     \n",
       "2 10     1     \n",
       "3  8     2     \n",
       "4 11     3     \n",
       "5  6     4     \n",
       "6  7     5     \n",
       "7  2     6     \n",
       "8  3     7     \n",
       "9  3     8     "
      ]
     },
     "metadata": {},
     "output_type": "display_data"
    }
   ],
   "source": [
    "reg.data"
   ]
  },
  {
   "cell_type": "code",
   "execution_count": 10,
   "metadata": {
    "collapsed": false
   },
   "outputs": [
    {
     "data": {
      "image/png": "[encoded data removed]",
      "text/plain": [
       "plot without title"
      ]
     },
     "metadata": {
      "image/png": {
       "height": 420,
       "width": 420
      },
      "text/plain": {
       "height": 420,
       "width": 420
      }
     },
     "output_type": "display_data"
    }
   ],
   "source": [
    "plot(reg.data)"
   ]
  },
  {
   "cell_type": "markdown",
   "metadata": {},
   "source": [
    "Calculate slope and intercept to 2 decimal digits using the lm() function. \n",
    "Tip: decide which variable you want to use as dependent variable. Growth or tannin? \n",
    "Here we are measuring growth, and we are observing how tannin influences it, so growth is the dependent variable (often called y) and tannin is the independent variable (often called x): "
   ]
  },
  {
   "cell_type": "code",
   "execution_count": 11,
   "metadata": {
    "collapsed": false
   },
   "outputs": [
    {
     "data": {
      "text/plain": [
       "\n",
       "Call:\n",
       "lm(formula = reg.data$growth ~ reg.data$tannin)\n",
       "\n",
       "Coefficients:\n",
       "    (Intercept)  reg.data$tannin  \n",
       "         11.756           -1.217  \n"
      ]
     },
     "metadata": {},
     "output_type": "display_data"
    }
   ],
   "source": [
    "model <- lm(reg.data$growth ~ reg.data$tannin)\n",
    "model"
   ]
  },
  {
   "cell_type": "markdown",
   "metadata": {},
   "source": [
    "Write the line equation for the linear model obtained with lm():\n",
    "\n",
    "      𝑦 ≈ 11.76 − 1.22 𝑥"
   ]
  },
  {
   "cell_type": "markdown",
   "metadata": {},
   "source": [
    "Plot the linear model over the scatterplot. Tip: use the abline() function."
   ]
  },
  {
   "cell_type": "code",
   "execution_count": 12,
   "metadata": {
    "collapsed": false
   },
   "outputs": [
    {
     "data": {
      "image/png": "[encoded data removed]",
      "text/plain": [
       "plot without title"
      ]
     },
     "metadata": {
      "image/png": {
       "height": 420,
       "width": 420
      },
      "text/plain": {
       "height": 420,
       "width": 420
      }
     },
     "output_type": "display_data"
    }
   ],
   "source": [
    "plot(x = reg.data$tannin, y = reg.data$growth)\n",
    "abline(model, col=\"red\")"
   ]
  },
  {
   "cell_type": "markdown",
   "metadata": {},
   "source": [
    "How can you extract more information about your linear model?  \n",
    "Tip: try to jot down a few possible commands now.\n",
    "You can use the function summary(): "
   ]
  },
  {
   "cell_type": "code",
   "execution_count": 13,
   "metadata": {
    "collapsed": false
   },
   "outputs": [
    {
     "data": {
      "text/plain": [
       "\n",
       "Call:\n",
       "lm(formula = reg.data$growth ~ reg.data$tannin)\n",
       "\n",
       "Residuals:\n",
       "    Min      1Q  Median      3Q     Max \n",
       "-2.4556 -0.8889 -0.2389  0.9778  2.8944 \n",
       "\n",
       "Coefficients:\n",
       "                Estimate Std. Error t value Pr(>|t|)    \n",
       "(Intercept)      11.7556     1.0408  11.295 9.54e-06 ***\n",
       "reg.data$tannin  -1.2167     0.2186  -5.565 0.000846 ***\n",
       "---\n",
       "Signif. codes:  0 '***' 0.001 '**' 0.01 '*' 0.05 '.' 0.1 ' ' 1\n",
       "\n",
       "Residual standard error: 1.693 on 7 degrees of freedom\n",
       "Multiple R-squared:  0.8157,\tAdjusted R-squared:  0.7893 \n",
       "F-statistic: 30.97 on 1 and 7 DF,  p-value: 0.0008461\n"
      ]
     },
     "metadata": {},
     "output_type": "display_data"
    }
   ],
   "source": [
    "summary(model)"
   ]
  },
  {
   "cell_type": "markdown",
   "metadata": {},
   "source": [
    "And you could use the attributes() function to list the elements present inside the model object:"
   ]
  },
  {
   "cell_type": "code",
   "execution_count": 14,
   "metadata": {
    "collapsed": false
   },
   "outputs": [
    {
     "data": {
      "text/html": [
       "<dl>\n",
       "\t<dt>$names</dt>\n",
       "\t\t<dd><style>\n",
       ".list-inline {list-style: none; margin:0; padding: 0}\n",
       ".list-inline>li {display: inline-block}\n",
       ".list-inline>li:not(:last-child)::after {content: \"\\00b7\"; padding: 0 .5ex}\n",
       "</style>\n",
       "<ol class=list-inline><li>'coefficients'</li><li>'residuals'</li><li>'effects'</li><li>'rank'</li><li>'fitted.values'</li><li>'assign'</li><li>'qr'</li><li>'df.residual'</li><li>'xlevels'</li><li>'call'</li><li>'terms'</li><li>'model'</li></ol>\n",
       "</dd>\n",
       "\t<dt>$class</dt>\n",
       "\t\t<dd>'lm'</dd>\n",
       "</dl>\n"
      ],
      "text/latex": [
       "\\begin{description}\n",
       "\\item[\\$names] \\begin{enumerate*}\n",
       "\\item 'coefficients'\n",
       "\\item 'residuals'\n",
       "\\item 'effects'\n",
       "\\item 'rank'\n",
       "\\item 'fitted.values'\n",
       "\\item 'assign'\n",
       "\\item 'qr'\n",
       "\\item 'df.residual'\n",
       "\\item 'xlevels'\n",
       "\\item 'call'\n",
       "\\item 'terms'\n",
       "\\item 'model'\n",
       "\\end{enumerate*}\n",
       "\n",
       "\\item[\\$class] 'lm'\n",
       "\\end{description}\n"
      ],
      "text/markdown": [
       "$names\n",
       ":   1. 'coefficients'\n",
       "2. 'residuals'\n",
       "3. 'effects'\n",
       "4. 'rank'\n",
       "5. 'fitted.values'\n",
       "6. 'assign'\n",
       "7. 'qr'\n",
       "8. 'df.residual'\n",
       "9. 'xlevels'\n",
       "10. 'call'\n",
       "11. 'terms'\n",
       "12. 'model'\n",
       "\n",
       "\n",
       "\n",
       "$class\n",
       ":   'lm'\n",
       "\n",
       "\n"
      ],
      "text/plain": [
       "$names\n",
       " [1] \"coefficients\"  \"residuals\"     \"effects\"       \"rank\"         \n",
       " [5] \"fitted.values\" \"assign\"        \"qr\"            \"df.residual\"  \n",
       " [9] \"xlevels\"       \"call\"          \"terms\"         \"model\"        \n",
       "\n",
       "$class\n",
       "[1] \"lm\"\n"
      ]
     },
     "metadata": {},
     "output_type": "display_data"
    }
   ],
   "source": [
    "attributes(model)"
   ]
  },
  {
   "cell_type": "markdown",
   "metadata": {},
   "source": [
    "Once you know the attribute name, you can get each attribute value using the dollar notation (<object>$<attribute>): "
   ]
  },
  {
   "cell_type": "code",
   "execution_count": 15,
   "metadata": {
    "collapsed": false
   },
   "outputs": [
    {
     "data": {
      "text/html": [
       "<style>\n",
       ".dl-inline {width: auto; margin:0; padding: 0}\n",
       ".dl-inline>dt, .dl-inline>dd {float: none; width: auto; display: inline-block}\n",
       ".dl-inline>dt::after {content: \":\\0020\"; padding-right: .5ex}\n",
       ".dl-inline>dt:not(:first-of-type) {padding-left: .5ex}\n",
       "</style><dl class=dl-inline><dt>1</dt><dd>0.244444444444448</dd><dt>2</dt><dd>-0.538888888888891</dd><dt>3</dt><dd>-1.32222222222222</dd><dt>4</dt><dd>2.89444444444444</dd><dt>5</dt><dd>-0.888888888888889</dd><dt>6</dt><dd>1.32777777777778</dd><dt>7</dt><dd>-2.45555555555556</dd><dt>8</dt><dd>-0.238888888888888</dd><dt>9</dt><dd>0.977777777777778</dd></dl>\n"
      ],
      "text/latex": [
       "\\begin{description*}\n",
       "\\item[1] 0.244444444444448\n",
       "\\item[2] -0.538888888888891\n",
       "\\item[3] -1.32222222222222\n",
       "\\item[4] 2.89444444444444\n",
       "\\item[5] -0.888888888888889\n",
       "\\item[6] 1.32777777777778\n",
       "\\item[7] -2.45555555555556\n",
       "\\item[8] -0.238888888888888\n",
       "\\item[9] 0.977777777777778\n",
       "\\end{description*}\n"
      ],
      "text/markdown": [
       "1\n",
       ":   0.2444444444444482\n",
       ":   -0.5388888888888913\n",
       ":   -1.322222222222224\n",
       ":   2.894444444444445\n",
       ":   -0.8888888888888896\n",
       ":   1.327777777777787\n",
       ":   -2.455555555555568\n",
       ":   -0.2388888888888889\n",
       ":   0.977777777777778\n",
       "\n"
      ],
      "text/plain": [
       "         1          2          3          4          5          6          7 \n",
       " 0.2444444 -0.5388889 -1.3222222  2.8944444 -0.8888889  1.3277778 -2.4555556 \n",
       "         8          9 \n",
       "-0.2388889  0.9777778 "
      ]
     },
     "metadata": {},
     "output_type": "display_data"
    }
   ],
   "source": [
    "model$residuals"
   ]
  },
  {
   "cell_type": "markdown",
   "metadata": {},
   "source": [
    "You can also access the elements of the model summary using the dollar notation"
   ]
  },
  {
   "cell_type": "code",
   "execution_count": 16,
   "metadata": {
    "collapsed": false
   },
   "outputs": [
    {
     "data": {
      "text/html": [
       "<dl>\n",
       "\t<dt>$names</dt>\n",
       "\t\t<dd><style>\n",
       ".list-inline {list-style: none; margin:0; padding: 0}\n",
       ".list-inline>li {display: inline-block}\n",
       ".list-inline>li:not(:last-child)::after {content: \"\\00b7\"; padding: 0 .5ex}\n",
       "</style>\n",
       "<ol class=list-inline><li>'call'</li><li>'terms'</li><li>'residuals'</li><li>'coefficients'</li><li>'aliased'</li><li>'sigma'</li><li>'df'</li><li>'r.squared'</li><li>'adj.r.squared'</li><li>'fstatistic'</li><li>'cov.unscaled'</li></ol>\n",
       "</dd>\n",
       "\t<dt>$class</dt>\n",
       "\t\t<dd>'summary.lm'</dd>\n",
       "</dl>\n"
      ],
      "text/latex": [
       "\\begin{description}\n",
       "\\item[\\$names] \\begin{enumerate*}\n",
       "\\item 'call'\n",
       "\\item 'terms'\n",
       "\\item 'residuals'\n",
       "\\item 'coefficients'\n",
       "\\item 'aliased'\n",
       "\\item 'sigma'\n",
       "\\item 'df'\n",
       "\\item 'r.squared'\n",
       "\\item 'adj.r.squared'\n",
       "\\item 'fstatistic'\n",
       "\\item 'cov.unscaled'\n",
       "\\end{enumerate*}\n",
       "\n",
       "\\item[\\$class] 'summary.lm'\n",
       "\\end{description}\n"
      ],
      "text/markdown": [
       "$names\n",
       ":   1. 'call'\n",
       "2. 'terms'\n",
       "3. 'residuals'\n",
       "4. 'coefficients'\n",
       "5. 'aliased'\n",
       "6. 'sigma'\n",
       "7. 'df'\n",
       "8. 'r.squared'\n",
       "9. 'adj.r.squared'\n",
       "10. 'fstatistic'\n",
       "11. 'cov.unscaled'\n",
       "\n",
       "\n",
       "\n",
       "$class\n",
       ":   'summary.lm'\n",
       "\n",
       "\n"
      ],
      "text/plain": [
       "$names\n",
       " [1] \"call\"          \"terms\"         \"residuals\"     \"coefficients\" \n",
       " [5] \"aliased\"       \"sigma\"         \"df\"            \"r.squared\"    \n",
       " [9] \"adj.r.squared\" \"fstatistic\"    \"cov.unscaled\" \n",
       "\n",
       "$class\n",
       "[1] \"summary.lm\"\n"
      ]
     },
     "metadata": {},
     "output_type": "display_data"
    }
   ],
   "source": [
    "attributes(summary(model))"
   ]
  },
  {
   "cell_type": "markdown",
   "metadata": {},
   "source": [
    "So you can get, for example, the proportion of variance accounted for by the model using the notation: "
   ]
  },
  {
   "cell_type": "code",
   "execution_count": 17,
   "metadata": {
    "collapsed": false
   },
   "outputs": [
    {
     "data": {
      "text/html": [
       "0.815663265306122"
      ],
      "text/latex": [
       "0.815663265306122"
      ],
      "text/markdown": [
       "0.815663265306122"
      ],
      "text/plain": [
       "[1] 0.8156633"
      ]
     },
     "metadata": {},
     "output_type": "display_data"
    }
   ],
   "source": [
    "summary(model)$r.squared"
   ]
  },
  {
   "cell_type": "markdown",
   "metadata": {},
   "source": [
    "Get the amount of variance accounted for by your linear model (R squared) from the model object in R. Is the model a good model? "
   ]
  },
  {
   "cell_type": "code",
   "execution_count": 18,
   "metadata": {
    "collapsed": false
   },
   "outputs": [
    {
     "data": {
      "text/html": [
       "0.815663265306122"
      ],
      "text/latex": [
       "0.815663265306122"
      ],
      "text/markdown": [
       "0.815663265306122"
      ],
      "text/plain": [
       "[1] 0.8156633"
      ]
     },
     "metadata": {},
     "output_type": "display_data"
    }
   ],
   "source": [
    "summary(model)$r.squared"
   ]
  },
  {
   "cell_type": "markdown",
   "metadata": {},
   "source": [
    "The model accounts for about 80% of the variance in the data, but we need more information to judge the model. For example more information from the model plots (to see if the assumptions are upheld), from the F value for the regression sum of squares, from the confidence intervals for slope and intercept and so on. \n",
    "\n",
    "Use anova() on the model to find out the value of SSR and SSM .  \n",
    "ANOVA and linear models are the same thing.\n",
    "You’ll later see that one or the other can be more practical."
   ]
  },
  {
   "cell_type": "code",
   "execution_count": 19,
   "metadata": {
    "collapsed": false
   },
   "outputs": [
    {
     "data": {
      "text/html": [
       "<table>\n",
       "<caption>A anova: 2 × 5</caption>\n",
       "<thead>\n",
       "\t<tr><th></th><th scope=col>Df</th><th scope=col>Sum Sq</th><th scope=col>Mean Sq</th><th scope=col>F value</th><th scope=col>Pr(&gt;F)</th></tr>\n",
       "\t<tr><th></th><th scope=col>&lt;int&gt;</th><th scope=col>&lt;dbl&gt;</th><th scope=col>&lt;dbl&gt;</th><th scope=col>&lt;dbl&gt;</th><th scope=col>&lt;dbl&gt;</th></tr>\n",
       "</thead>\n",
       "<tbody>\n",
       "\t<tr><th scope=row>reg.data$tannin</th><td>1</td><td>88.81667</td><td>88.81667</td><td>30.97398</td><td>0.0008460738</td></tr>\n",
       "\t<tr><th scope=row>Residuals</th><td>7</td><td>20.07222</td><td> 2.86746</td><td>      NA</td><td>          NA</td></tr>\n",
       "</tbody>\n",
       "</table>\n"
      ],
      "text/latex": [
       "A anova: 2 × 5\n",
       "\\begin{tabular}{r|lllll}\n",
       "  & Df & Sum Sq & Mean Sq & F value & Pr(>F)\\\\\n",
       "  & <int> & <dbl> & <dbl> & <dbl> & <dbl>\\\\\n",
       "\\hline\n",
       "\treg.data\\$tannin & 1 & 88.81667 & 88.81667 & 30.97398 & 0.0008460738\\\\\n",
       "\tResiduals & 7 & 20.07222 &  2.86746 &       NA &           NA\\\\\n",
       "\\end{tabular}\n"
      ],
      "text/markdown": [
       "\n",
       "A anova: 2 × 5\n",
       "\n",
       "| <!--/--> | Df &lt;int&gt; | Sum Sq &lt;dbl&gt; | Mean Sq &lt;dbl&gt; | F value &lt;dbl&gt; | Pr(&gt;F) &lt;dbl&gt; |\n",
       "|---|---|---|---|---|---|\n",
       "| reg.data$tannin | 1 | 88.81667 | 88.81667 | 30.97398 | 0.0008460738 |\n",
       "| Residuals | 7 | 20.07222 |  2.86746 |       NA |           NA |\n",
       "\n"
      ],
      "text/plain": [
       "                Df Sum Sq   Mean Sq  F value  Pr(>F)      \n",
       "reg.data$tannin 1  88.81667 88.81667 30.97398 0.0008460738\n",
       "Residuals       7  20.07222  2.86746       NA           NA"
      ]
     },
     "metadata": {},
     "output_type": "display_data"
    }
   ],
   "source": [
    "anova(model)"
   ]
  },
  {
   "cell_type": "markdown",
   "metadata": {},
   "source": [
    "The ANOVA output also includes the F ratio. Calculate the F ratio."
   ]
  },
  {
   "cell_type": "code",
   "execution_count": 20,
   "metadata": {
    "collapsed": false
   },
   "outputs": [
    {
     "data": {
      "text/html": [
       "<dl>\n",
       "\t<dt>$names</dt>\n",
       "\t\t<dd><style>\n",
       ".list-inline {list-style: none; margin:0; padding: 0}\n",
       ".list-inline>li {display: inline-block}\n",
       ".list-inline>li:not(:last-child)::after {content: \"\\00b7\"; padding: 0 .5ex}\n",
       "</style>\n",
       "<ol class=list-inline><li>'Df'</li><li>'Sum Sq'</li><li>'Mean Sq'</li><li>'F value'</li><li>'Pr(&gt;F)'</li></ol>\n",
       "</dd>\n",
       "\t<dt>$row.names</dt>\n",
       "\t\t<dd><style>\n",
       ".list-inline {list-style: none; margin:0; padding: 0}\n",
       ".list-inline>li {display: inline-block}\n",
       ".list-inline>li:not(:last-child)::after {content: \"\\00b7\"; padding: 0 .5ex}\n",
       "</style>\n",
       "<ol class=list-inline><li>'reg.data$tannin'</li><li>'Residuals'</li></ol>\n",
       "</dd>\n",
       "\t<dt>$class</dt>\n",
       "\t\t<dd><style>\n",
       ".list-inline {list-style: none; margin:0; padding: 0}\n",
       ".list-inline>li {display: inline-block}\n",
       ".list-inline>li:not(:last-child)::after {content: \"\\00b7\"; padding: 0 .5ex}\n",
       "</style>\n",
       "<ol class=list-inline><li>'anova'</li><li>'data.frame'</li></ol>\n",
       "</dd>\n",
       "\t<dt>$heading</dt>\n",
       "\t\t<dd><style>\n",
       ".list-inline {list-style: none; margin:0; padding: 0}\n",
       ".list-inline>li {display: inline-block}\n",
       ".list-inline>li:not(:last-child)::after {content: \"\\00b7\"; padding: 0 .5ex}\n",
       "</style>\n",
       "<ol class=list-inline><li>'Analysis of Variance Table\\n'</li><li>'Response: reg.data$growth'</li></ol>\n",
       "</dd>\n",
       "</dl>\n"
      ],
      "text/latex": [
       "\\begin{description}\n",
       "\\item[\\$names] \\begin{enumerate*}\n",
       "\\item 'Df'\n",
       "\\item 'Sum Sq'\n",
       "\\item 'Mean Sq'\n",
       "\\item 'F value'\n",
       "\\item 'Pr(>F)'\n",
       "\\end{enumerate*}\n",
       "\n",
       "\\item[\\$row.names] \\begin{enumerate*}\n",
       "\\item 'reg.data\\$tannin'\n",
       "\\item 'Residuals'\n",
       "\\end{enumerate*}\n",
       "\n",
       "\\item[\\$class] \\begin{enumerate*}\n",
       "\\item 'anova'\n",
       "\\item 'data.frame'\n",
       "\\end{enumerate*}\n",
       "\n",
       "\\item[\\$heading] \\begin{enumerate*}\n",
       "\\item 'Analysis of Variance Table\\textbackslash{}n'\n",
       "\\item 'Response: reg.data\\$growth'\n",
       "\\end{enumerate*}\n",
       "\n",
       "\\end{description}\n"
      ],
      "text/markdown": [
       "$names\n",
       ":   1. 'Df'\n",
       "2. 'Sum Sq'\n",
       "3. 'Mean Sq'\n",
       "4. 'F value'\n",
       "5. 'Pr(&gt;F)'\n",
       "\n",
       "\n",
       "\n",
       "$row.names\n",
       ":   1. 'reg.data$tannin'\n",
       "2. 'Residuals'\n",
       "\n",
       "\n",
       "\n",
       "$class\n",
       ":   1. 'anova'\n",
       "2. 'data.frame'\n",
       "\n",
       "\n",
       "\n",
       "$heading\n",
       ":   1. 'Analysis of Variance Table\\n'\n",
       "2. 'Response: reg.data$growth'\n",
       "\n",
       "\n",
       "\n",
       "\n",
       "\n"
      ],
      "text/plain": [
       "$names\n",
       "[1] \"Df\"      \"Sum Sq\"  \"Mean Sq\" \"F value\" \"Pr(>F)\" \n",
       "\n",
       "$row.names\n",
       "[1] \"reg.data$tannin\" \"Residuals\"      \n",
       "\n",
       "$class\n",
       "[1] \"anova\"      \"data.frame\"\n",
       "\n",
       "$heading\n",
       "[1] \"Analysis of Variance Table\\n\" \"Response: reg.data$growth\"   \n"
      ]
     },
     "metadata": {},
     "output_type": "display_data"
    }
   ],
   "source": [
    "attributes(anova(model))"
   ]
  },
  {
   "cell_type": "markdown",
   "metadata": {},
   "source": [
    "The data can be accessed using the row and column names, or using the row and column numbers:"
   ]
  },
  {
   "cell_type": "code",
   "execution_count": 21,
   "metadata": {
    "collapsed": false
   },
   "outputs": [
    {
     "data": {
      "text/html": [
       "88.8166666666667"
      ],
      "text/latex": [
       "88.8166666666667"
      ],
      "text/markdown": [
       "88.8166666666667"
      ],
      "text/plain": [
       "[1] 88.81667"
      ]
     },
     "metadata": {},
     "output_type": "display_data"
    }
   ],
   "source": [
    "anova(model)[\"reg.data$tannin\",\"Mean Sq\"]"
   ]
  },
  {
   "cell_type": "code",
   "execution_count": 22,
   "metadata": {
    "collapsed": false
   },
   "outputs": [
    {
     "data": {
      "text/html": [
       "88.8166666666667"
      ],
      "text/latex": [
       "88.8166666666667"
      ],
      "text/markdown": [
       "88.8166666666667"
      ],
      "text/plain": [
       "[1] 88.81667"
      ]
     },
     "metadata": {},
     "output_type": "display_data"
    }
   ],
   "source": [
    "anova(model)[1, 3]"
   ]
  },
  {
   "cell_type": "code",
   "execution_count": 23,
   "metadata": {
    "collapsed": false
   },
   "outputs": [
    {
     "data": {
      "text/html": [
       "2.86746031746032"
      ],
      "text/latex": [
       "2.86746031746032"
      ],
      "text/markdown": [
       "2.86746031746032"
      ],
      "text/plain": [
       "[1] 2.86746"
      ]
     },
     "metadata": {},
     "output_type": "display_data"
    }
   ],
   "source": [
    "anova(model)[\"Residuals\",\"Mean Sq\"]"
   ]
  },
  {
   "cell_type": "code",
   "execution_count": 24,
   "metadata": {
    "collapsed": false
   },
   "outputs": [
    {
     "data": {
      "text/html": [
       "2.86746031746032"
      ],
      "text/latex": [
       "2.86746031746032"
      ],
      "text/markdown": [
       "2.86746031746032"
      ],
      "text/plain": [
       "[1] 2.86746"
      ]
     },
     "metadata": {},
     "output_type": "display_data"
    }
   ],
   "source": [
    "anova(model)[2, 3]"
   ]
  },
  {
   "cell_type": "markdown",
   "metadata": {},
   "source": [
    "Now you can calculate the F-ratio:"
   ]
  },
  {
   "cell_type": "code",
   "execution_count": 25,
   "metadata": {
    "collapsed": false
   },
   "outputs": [
    {
     "data": {
      "text/html": [
       "30.9739828397454"
      ],
      "text/latex": [
       "30.9739828397454"
      ],
      "text/markdown": [
       "30.9739828397454"
      ],
      "text/plain": [
       "[1] 30.97398"
      ]
     },
     "metadata": {},
     "output_type": "display_data"
    }
   ],
   "source": [
    "MSM <- anova(model)[\"reg.data$tannin\",\"Mean Sq\"]\n",
    "MSR <- anova(model)[\"Residuals\",\"Mean Sq\"]\n",
    "F_ratio <- MSM/MSR\n",
    "F_ratio"
   ]
  },
  {
   "cell_type": "markdown",
   "metadata": {
    "collapsed": true
   },
   "source": [
    "Material adapted from: \n",
    "\n",
    "•Discovering statistics using R. Authors: A. Field, J. Miles, Z. Field. Publisher: Sage, 2012\n",
    "\n",
    "•The R book (second edition). Authors: Michael J. Crawley. Publisher: Wiley, 2013\n",
    "\n",
    "•Research methods and statistics 2, Tom Booths and Alex Doumas 2018."
   ]
  },
  {
   "cell_type": "code",
   "execution_count": null,
   "metadata": {
    "collapsed": true
   },
   "outputs": [],
   "source": []
  },
  {
   "cell_type": "code",
   "execution_count": null,
   "metadata": {
    "collapsed": true
   },
   "outputs": [],
   "source": []
  },
  {
   "cell_type": "code",
   "execution_count": null,
   "metadata": {
    "collapsed": true
   },
   "outputs": [],
   "source": []
  }
 ],
 "metadata": {
  "kernelspec": {
   "display_name": "R",
   "language": "R",
   "name": "ir"
  },
  "language_info": {
   "codemirror_mode": "r",
   "file_extension": ".r",
   "mimetype": "text/x-r-source",
   "name": "R",
   "pygments_lexer": "r",
   "version": "4.0.0"
  }
 },
 "nbformat": 4,
 "nbformat_minor": 0
}
